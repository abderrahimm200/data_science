{
  "nbformat": 4,
  "nbformat_minor": 0,
  "metadata": {
    "colab": {
      "provenance": []
    },
    "kernelspec": {
      "name": "python3",
      "display_name": "Python 3"
    },
    "language_info": {
      "name": "python"
    }
  },
  "cells": [
    {
      "cell_type": "markdown",
      "source": [
        "# Analyse Robert Lewandowski's Stats"
      ],
      "metadata": {
        "id": "glh0Uh1bWV9X"
      }
    },
    {
      "cell_type": "code",
      "execution_count": null,
      "metadata": {
        "id": "ByYOjTuIWP_P"
      },
      "outputs": [],
      "source": [
        "import pandas as pd\n",
        "import json\n",
        "import numpy as np\n",
        "import matplotlib.pyplot as plt\n",
        "import seaborn as sns"
      ]
    },
    {
      "cell_type": "code",
      "source": [
        "from google.colab import drive\n",
        "drive.mount('/content/drive')"
      ],
      "metadata": {
        "colab": {
          "base_uri": "https://localhost:8080/"
        },
        "id": "v1jHPpTAb5eF",
        "outputId": "f06f7110-9c6d-4fbd-bd54-2c052e923e86"
      },
      "execution_count": null,
      "outputs": [
        {
          "output_type": "stream",
          "name": "stdout",
          "text": [
            "Drive already mounted at /content/drive; to attempt to forcibly remount, call drive.mount(\"/content/drive\", force_remount=True).\n"
          ]
        }
      ]
    },
    {
      "cell_type": "code",
      "source": [
        "players_df = pd.read_csv(\"players_stats_fcbarcelona_matchs_2022_2023.csv\")\n"
      ],
      "metadata": {
        "id": "IYpR3Hp4Wmds"
      },
      "execution_count": null,
      "outputs": []
    },
    {
      "cell_type": "code",
      "source": [
        "pd.set_option('display.max_columns', None)"
      ],
      "metadata": {
        "id": "tmuSpK0pojlA"
      },
      "execution_count": null,
      "outputs": []
    },
    {
      "cell_type": "code",
      "source": [
        "players_df.columns"
      ],
      "metadata": {
        "colab": {
          "base_uri": "https://localhost:8080/"
        },
        "id": "MOF4zbiyYRzk",
        "outputId": "cd0ffece-1246-4737-dd09-b2954d2105af"
      },
      "execution_count": null,
      "outputs": [
        {
          "output_type": "execute_result",
          "data": {
            "text/plain": [
              "Index(['Unnamed: 0', 'id', 'usingOptaId', 'name', 'imageUrl', 'pageUrl',\n",
              "       'shirt', 'isHomeTeam', 'timeSubbedOn', 'timeSubbedOff', 'usualPosition',\n",
              "       'positionRow', 'role', 'events', 'teamName', 'home_team', 'away_team',\n",
              "       'score', 'shortName', 'isCaptain', 'rating', 'fantasyScore',\n",
              "       'minutesPlayed', 'shotmap', 'stats', 'teamData', 'positionStringShort'],\n",
              "      dtype='object')"
            ]
          },
          "metadata": {},
          "execution_count": 13
        }
      ]
    },
    {
      "cell_type": "markdown",
      "source": [
        "# Data cleaning and preparation \n"
      ],
      "metadata": {
        "id": "EZFch-Kp4eID"
      }
    },
    {
      "cell_type": "code",
      "source": [
        "players_df[\"name\"] = players_df[\"name\"].apply(lambda x:eval(x))"
      ],
      "metadata": {
        "id": "LxoYCO1CYJSR"
      },
      "execution_count": null,
      "outputs": []
    },
    {
      "cell_type": "code",
      "source": [
        "\n",
        "players_df['first_name'] = players_df['name'].apply(lambda x: x['firstName'])\n",
        "players_df['last_name'] = players_df['name'].apply(lambda x: x['lastName'])"
      ],
      "metadata": {
        "id": "sBxr-Ec0WtnX"
      },
      "execution_count": null,
      "outputs": []
    },
    {
      "cell_type": "code",
      "source": [
        "players_df.iloc[470].stats"
      ],
      "metadata": {
        "id": "VH4YW25sW6Gn",
        "colab": {
          "base_uri": "https://localhost:8080/",
          "height": 87
        },
        "outputId": "3b73cb80-f2d9-412f-b54d-c8f1b10ef632"
      },
      "execution_count": null,
      "outputs": [
        {
          "output_type": "execute_result",
          "data": {
            "text/plain": [
              "\"[{'title': 'Top stats', 'stats': {'FotMob rating': 6.19, 'Minutes played': 27, 'Goals': 0, 'Assists': 0, 'Total shots': 2, 'Shotmap': True, 'Accurate passes': '14/16 (88%)', 'Chances created': 1, 'Expected goals (xG)': '0.35', 'Expected assists (xA)': '0.31'}}, {'title': 'Attack', 'stats': {'Shot accuracy': '1/2 (50%)', 'Big chance missed': 1, 'Touches': 25, 'Passes into final third': 1, 'Accurate long balls': '2/2 (100%)', 'Dispossessed': 2}}, {'title': 'Defence', 'stats': {'Tackles won': '0/1 (0%)', 'Interceptions': 1}}, {'title': 'Duels', 'stats': {'Ground duels won': '2/5 (40%)', 'Aerial duels won': 0, 'Was fouled': 1, 'Fouls committed': 1}}]\""
            ],
            "application/vnd.google.colaboratory.intrinsic+json": {
              "type": "string"
            }
          },
          "metadata": {},
          "execution_count": 16
        }
      ]
    },
    {
      "cell_type": "markdown",
      "source": [
        "# feature engineering"
      ],
      "metadata": {
        "id": "7J8rMWPJMziM"
      }
    },
    {
      "cell_type": "code",
      "source": [
        "lewandowski = players_df.query(\"first_name == 'Robert' & last_name == 'Lewandowski'\")"
      ],
      "metadata": {
        "id": "iIlz4B8YCUFH"
      },
      "execution_count": null,
      "outputs": []
    },
    {
      "cell_type": "code",
      "source": [
        "lewa_stats = lewandowski[~lewandowski[\"stats\"].isna()]"
      ],
      "metadata": {
        "id": "ES7ycW-lMAH7"
      },
      "execution_count": null,
      "outputs": []
    },
    {
      "cell_type": "code",
      "source": [
        "# extract opponent team\n",
        "lewa_team_info = pd.DataFrame(lewa_stats[\"isHomeTeam\"])\n",
        "# extract opponent team\n",
        "lewa_team_info[\"opponent_team\"] = np.where(lewa_stats['home_team'] == \"Barcelona\", lewa_stats['away_team'], lewa_stats['home_team'])\n",
        "# extract barca and opponent score\n",
        "lewa_team_info[\"barca_score\"] = np.where(lewa_stats['home_team'] == \"Barcelona\",\n",
        "                                         lewa_stats['score'].str.split(\" - \").apply(lambda x: x[0]),\n",
        "                                         lewa_stats['score'].str.split(\" - \").apply(lambda x: x[1]))\n",
        "lewa_team_info[\"opponent_score\"] = np.where(lewa_stats['away_team'] == \"Barcelona\",\n",
        "                                         lewa_stats['score'].str.split(\" - \").apply(lambda x: x[0]),\n",
        "                                         lewa_stats['score'].str.split(\" - \").apply(lambda x: x[1]))\n",
        "\n",
        "def result(row):\n",
        "    if row[\"barca_score\"] > row [\"opponent_score\"]:\n",
        "        return \"Win\"\n",
        "    elif row[\"barca_score\"] < row [\"opponent_score\"]:\n",
        "        return \"Lose\"\n",
        "    else:\n",
        "        return \"Draw\"\n",
        "#match result\n",
        "lewa_team_info[\"result\"] = lewa_team_info.apply(result, axis=1)"
      ],
      "metadata": {
        "id": "Ym7rIh3vFYFD"
      },
      "execution_count": null,
      "outputs": []
    },
    {
      "cell_type": "code",
      "source": [
        "lewa_team_info.head()"
      ],
      "metadata": {
        "id": "sJi11-mFMnFh",
        "colab": {
          "base_uri": "https://localhost:8080/",
          "height": 206
        },
        "outputId": "8454f32d-ac6a-4c8c-d1ad-04b5ee761596"
      },
      "execution_count": null,
      "outputs": [
        {
          "output_type": "execute_result",
          "data": {
            "text/plain": [
              "     isHomeTeam    opponent_team barca_score opponent_score result\n",
              "280        True   Rayo Vallecano           0              0   Draw\n",
              "340       False    Real Sociedad           4              1    Win\n",
              "422        True  Real Valladolid           4              0    Win\n",
              "481       False          Sevilla           3              0    Win\n",
              "512        True   Viktoria Plzen           5              1    Win"
            ],
            "text/html": [
              "\n",
              "  <div id=\"df-53b86818-27ee-422f-89fc-70da0c8c88da\">\n",
              "    <div class=\"colab-df-container\">\n",
              "      <div>\n",
              "<style scoped>\n",
              "    .dataframe tbody tr th:only-of-type {\n",
              "        vertical-align: middle;\n",
              "    }\n",
              "\n",
              "    .dataframe tbody tr th {\n",
              "        vertical-align: top;\n",
              "    }\n",
              "\n",
              "    .dataframe thead th {\n",
              "        text-align: right;\n",
              "    }\n",
              "</style>\n",
              "<table border=\"1\" class=\"dataframe\">\n",
              "  <thead>\n",
              "    <tr style=\"text-align: right;\">\n",
              "      <th></th>\n",
              "      <th>isHomeTeam</th>\n",
              "      <th>opponent_team</th>\n",
              "      <th>barca_score</th>\n",
              "      <th>opponent_score</th>\n",
              "      <th>result</th>\n",
              "    </tr>\n",
              "  </thead>\n",
              "  <tbody>\n",
              "    <tr>\n",
              "      <th>280</th>\n",
              "      <td>True</td>\n",
              "      <td>Rayo Vallecano</td>\n",
              "      <td>0</td>\n",
              "      <td>0</td>\n",
              "      <td>Draw</td>\n",
              "    </tr>\n",
              "    <tr>\n",
              "      <th>340</th>\n",
              "      <td>False</td>\n",
              "      <td>Real Sociedad</td>\n",
              "      <td>4</td>\n",
              "      <td>1</td>\n",
              "      <td>Win</td>\n",
              "    </tr>\n",
              "    <tr>\n",
              "      <th>422</th>\n",
              "      <td>True</td>\n",
              "      <td>Real Valladolid</td>\n",
              "      <td>4</td>\n",
              "      <td>0</td>\n",
              "      <td>Win</td>\n",
              "    </tr>\n",
              "    <tr>\n",
              "      <th>481</th>\n",
              "      <td>False</td>\n",
              "      <td>Sevilla</td>\n",
              "      <td>3</td>\n",
              "      <td>0</td>\n",
              "      <td>Win</td>\n",
              "    </tr>\n",
              "    <tr>\n",
              "      <th>512</th>\n",
              "      <td>True</td>\n",
              "      <td>Viktoria Plzen</td>\n",
              "      <td>5</td>\n",
              "      <td>1</td>\n",
              "      <td>Win</td>\n",
              "    </tr>\n",
              "  </tbody>\n",
              "</table>\n",
              "</div>\n",
              "      <button class=\"colab-df-convert\" onclick=\"convertToInteractive('df-53b86818-27ee-422f-89fc-70da0c8c88da')\"\n",
              "              title=\"Convert this dataframe to an interactive table.\"\n",
              "              style=\"display:none;\">\n",
              "        \n",
              "  <svg xmlns=\"http://www.w3.org/2000/svg\" height=\"24px\"viewBox=\"0 0 24 24\"\n",
              "       width=\"24px\">\n",
              "    <path d=\"M0 0h24v24H0V0z\" fill=\"none\"/>\n",
              "    <path d=\"M18.56 5.44l.94 2.06.94-2.06 2.06-.94-2.06-.94-.94-2.06-.94 2.06-2.06.94zm-11 1L8.5 8.5l.94-2.06 2.06-.94-2.06-.94L8.5 2.5l-.94 2.06-2.06.94zm10 10l.94 2.06.94-2.06 2.06-.94-2.06-.94-.94-2.06-.94 2.06-2.06.94z\"/><path d=\"M17.41 7.96l-1.37-1.37c-.4-.4-.92-.59-1.43-.59-.52 0-1.04.2-1.43.59L10.3 9.45l-7.72 7.72c-.78.78-.78 2.05 0 2.83L4 21.41c.39.39.9.59 1.41.59.51 0 1.02-.2 1.41-.59l7.78-7.78 2.81-2.81c.8-.78.8-2.07 0-2.86zM5.41 20L4 18.59l7.72-7.72 1.47 1.35L5.41 20z\"/>\n",
              "  </svg>\n",
              "      </button>\n",
              "      \n",
              "  <style>\n",
              "    .colab-df-container {\n",
              "      display:flex;\n",
              "      flex-wrap:wrap;\n",
              "      gap: 12px;\n",
              "    }\n",
              "\n",
              "    .colab-df-convert {\n",
              "      background-color: #E8F0FE;\n",
              "      border: none;\n",
              "      border-radius: 50%;\n",
              "      cursor: pointer;\n",
              "      display: none;\n",
              "      fill: #1967D2;\n",
              "      height: 32px;\n",
              "      padding: 0 0 0 0;\n",
              "      width: 32px;\n",
              "    }\n",
              "\n",
              "    .colab-df-convert:hover {\n",
              "      background-color: #E2EBFA;\n",
              "      box-shadow: 0px 1px 2px rgba(60, 64, 67, 0.3), 0px 1px 3px 1px rgba(60, 64, 67, 0.15);\n",
              "      fill: #174EA6;\n",
              "    }\n",
              "\n",
              "    [theme=dark] .colab-df-convert {\n",
              "      background-color: #3B4455;\n",
              "      fill: #D2E3FC;\n",
              "    }\n",
              "\n",
              "    [theme=dark] .colab-df-convert:hover {\n",
              "      background-color: #434B5C;\n",
              "      box-shadow: 0px 1px 3px 1px rgba(0, 0, 0, 0.15);\n",
              "      filter: drop-shadow(0px 1px 2px rgba(0, 0, 0, 0.3));\n",
              "      fill: #FFFFFF;\n",
              "    }\n",
              "  </style>\n",
              "\n",
              "      <script>\n",
              "        const buttonEl =\n",
              "          document.querySelector('#df-53b86818-27ee-422f-89fc-70da0c8c88da button.colab-df-convert');\n",
              "        buttonEl.style.display =\n",
              "          google.colab.kernel.accessAllowed ? 'block' : 'none';\n",
              "\n",
              "        async function convertToInteractive(key) {\n",
              "          const element = document.querySelector('#df-53b86818-27ee-422f-89fc-70da0c8c88da');\n",
              "          const dataTable =\n",
              "            await google.colab.kernel.invokeFunction('convertToInteractive',\n",
              "                                                     [key], {});\n",
              "          if (!dataTable) return;\n",
              "\n",
              "          const docLinkHtml = 'Like what you see? Visit the ' +\n",
              "            '<a target=\"_blank\" href=https://colab.research.google.com/notebooks/data_table.ipynb>data table notebook</a>'\n",
              "            + ' to learn more about interactive tables.';\n",
              "          element.innerHTML = '';\n",
              "          dataTable['output_type'] = 'display_data';\n",
              "          await google.colab.output.renderOutput(dataTable, element);\n",
              "          const docLink = document.createElement('div');\n",
              "          docLink.innerHTML = docLinkHtml;\n",
              "          element.appendChild(docLink);\n",
              "        }\n",
              "      </script>\n",
              "    </div>\n",
              "  </div>\n",
              "  "
            ]
          },
          "metadata": {},
          "execution_count": 20
        }
      ]
    },
    {
      "cell_type": "code",
      "source": [
        "lewa_game_stats = lewa_stats.stats\n",
        "all_stats_df = pd.DataFrame()\n",
        "index = 1\n",
        "for row in lewa_game_stats:\n",
        "  df = pd.DataFrame()\n",
        "  for stats in eval(row):\n",
        "      dict_stats = stats['stats']\n",
        "      stats_df = pd.DataFrame.from_dict(dict_stats, orient='index', columns=[index]).T\n",
        "      df = pd.concat([df, stats_df], axis=1)\n",
        "  index += 1\n",
        "  all_stats_df = all_stats_df.append(df)"
      ],
      "metadata": {
        "id": "dl_kvzc7MGtC",
        "colab": {
          "base_uri": "https://localhost:8080/"
        },
        "outputId": "ccb7b67e-e0da-4049-d905-e590db3af5bb"
      },
      "execution_count": null,
      "outputs": [
        {
          "output_type": "stream",
          "name": "stderr",
          "text": [
            "<ipython-input-21-235684567681>:11: FutureWarning: The frame.append method is deprecated and will be removed from pandas in a future version. Use pandas.concat instead.\n",
            "  all_stats_df = all_stats_df.append(df)\n",
            "<ipython-input-21-235684567681>:11: FutureWarning: The frame.append method is deprecated and will be removed from pandas in a future version. Use pandas.concat instead.\n",
            "  all_stats_df = all_stats_df.append(df)\n",
            "<ipython-input-21-235684567681>:11: FutureWarning: The frame.append method is deprecated and will be removed from pandas in a future version. Use pandas.concat instead.\n",
            "  all_stats_df = all_stats_df.append(df)\n",
            "<ipython-input-21-235684567681>:11: FutureWarning: The frame.append method is deprecated and will be removed from pandas in a future version. Use pandas.concat instead.\n",
            "  all_stats_df = all_stats_df.append(df)\n",
            "<ipython-input-21-235684567681>:11: FutureWarning: The frame.append method is deprecated and will be removed from pandas in a future version. Use pandas.concat instead.\n",
            "  all_stats_df = all_stats_df.append(df)\n",
            "<ipython-input-21-235684567681>:11: FutureWarning: The frame.append method is deprecated and will be removed from pandas in a future version. Use pandas.concat instead.\n",
            "  all_stats_df = all_stats_df.append(df)\n",
            "<ipython-input-21-235684567681>:11: FutureWarning: The frame.append method is deprecated and will be removed from pandas in a future version. Use pandas.concat instead.\n",
            "  all_stats_df = all_stats_df.append(df)\n",
            "<ipython-input-21-235684567681>:11: FutureWarning: The frame.append method is deprecated and will be removed from pandas in a future version. Use pandas.concat instead.\n",
            "  all_stats_df = all_stats_df.append(df)\n",
            "<ipython-input-21-235684567681>:11: FutureWarning: The frame.append method is deprecated and will be removed from pandas in a future version. Use pandas.concat instead.\n",
            "  all_stats_df = all_stats_df.append(df)\n",
            "<ipython-input-21-235684567681>:11: FutureWarning: The frame.append method is deprecated and will be removed from pandas in a future version. Use pandas.concat instead.\n",
            "  all_stats_df = all_stats_df.append(df)\n",
            "<ipython-input-21-235684567681>:11: FutureWarning: The frame.append method is deprecated and will be removed from pandas in a future version. Use pandas.concat instead.\n",
            "  all_stats_df = all_stats_df.append(df)\n",
            "<ipython-input-21-235684567681>:11: FutureWarning: The frame.append method is deprecated and will be removed from pandas in a future version. Use pandas.concat instead.\n",
            "  all_stats_df = all_stats_df.append(df)\n",
            "<ipython-input-21-235684567681>:11: FutureWarning: The frame.append method is deprecated and will be removed from pandas in a future version. Use pandas.concat instead.\n",
            "  all_stats_df = all_stats_df.append(df)\n",
            "<ipython-input-21-235684567681>:11: FutureWarning: The frame.append method is deprecated and will be removed from pandas in a future version. Use pandas.concat instead.\n",
            "  all_stats_df = all_stats_df.append(df)\n",
            "<ipython-input-21-235684567681>:11: FutureWarning: The frame.append method is deprecated and will be removed from pandas in a future version. Use pandas.concat instead.\n",
            "  all_stats_df = all_stats_df.append(df)\n",
            "<ipython-input-21-235684567681>:11: FutureWarning: The frame.append method is deprecated and will be removed from pandas in a future version. Use pandas.concat instead.\n",
            "  all_stats_df = all_stats_df.append(df)\n",
            "<ipython-input-21-235684567681>:11: FutureWarning: The frame.append method is deprecated and will be removed from pandas in a future version. Use pandas.concat instead.\n",
            "  all_stats_df = all_stats_df.append(df)\n",
            "<ipython-input-21-235684567681>:11: FutureWarning: The frame.append method is deprecated and will be removed from pandas in a future version. Use pandas.concat instead.\n",
            "  all_stats_df = all_stats_df.append(df)\n",
            "<ipython-input-21-235684567681>:11: FutureWarning: The frame.append method is deprecated and will be removed from pandas in a future version. Use pandas.concat instead.\n",
            "  all_stats_df = all_stats_df.append(df)\n",
            "<ipython-input-21-235684567681>:11: FutureWarning: The frame.append method is deprecated and will be removed from pandas in a future version. Use pandas.concat instead.\n",
            "  all_stats_df = all_stats_df.append(df)\n",
            "<ipython-input-21-235684567681>:11: FutureWarning: The frame.append method is deprecated and will be removed from pandas in a future version. Use pandas.concat instead.\n",
            "  all_stats_df = all_stats_df.append(df)\n",
            "<ipython-input-21-235684567681>:11: FutureWarning: The frame.append method is deprecated and will be removed from pandas in a future version. Use pandas.concat instead.\n",
            "  all_stats_df = all_stats_df.append(df)\n",
            "<ipython-input-21-235684567681>:11: FutureWarning: The frame.append method is deprecated and will be removed from pandas in a future version. Use pandas.concat instead.\n",
            "  all_stats_df = all_stats_df.append(df)\n",
            "<ipython-input-21-235684567681>:11: FutureWarning: The frame.append method is deprecated and will be removed from pandas in a future version. Use pandas.concat instead.\n",
            "  all_stats_df = all_stats_df.append(df)\n",
            "<ipython-input-21-235684567681>:11: FutureWarning: The frame.append method is deprecated and will be removed from pandas in a future version. Use pandas.concat instead.\n",
            "  all_stats_df = all_stats_df.append(df)\n",
            "<ipython-input-21-235684567681>:11: FutureWarning: The frame.append method is deprecated and will be removed from pandas in a future version. Use pandas.concat instead.\n",
            "  all_stats_df = all_stats_df.append(df)\n",
            "<ipython-input-21-235684567681>:11: FutureWarning: The frame.append method is deprecated and will be removed from pandas in a future version. Use pandas.concat instead.\n",
            "  all_stats_df = all_stats_df.append(df)\n",
            "<ipython-input-21-235684567681>:11: FutureWarning: The frame.append method is deprecated and will be removed from pandas in a future version. Use pandas.concat instead.\n",
            "  all_stats_df = all_stats_df.append(df)\n",
            "<ipython-input-21-235684567681>:11: FutureWarning: The frame.append method is deprecated and will be removed from pandas in a future version. Use pandas.concat instead.\n",
            "  all_stats_df = all_stats_df.append(df)\n"
          ]
        }
      ]
    },
    {
      "cell_type": "code",
      "source": [
        "all_stats_df.head()"
      ],
      "metadata": {
        "id": "EVqdNYGt_o2O",
        "colab": {
          "base_uri": "https://localhost:8080/",
          "height": 409
        },
        "outputId": "56d0c2ac-66bf-443c-df8a-0398ae5957d8"
      },
      "execution_count": null,
      "outputs": [
        {
          "output_type": "execute_result",
          "data": {
            "text/plain": [
              "  FotMob rating Minutes played Goals Assists Total shots Shotmap  \\\n",
              "1          6.78             90     0       0           5    True   \n",
              "2          8.87             90     2       0           4    True   \n",
              "3          9.24             90     2       0           5    True   \n",
              "4          8.05             74     1       0           4    True   \n",
              "5          9.71             90     3       0           6    True   \n",
              "\n",
              "  Accurate passes Chances created Expected goals (xG)  \\\n",
              "1     11/16 (69%)               2                0.86   \n",
              "2     27/30 (90%)               2                0.89   \n",
              "3     27/31 (87%)               3                0.88   \n",
              "4     14/17 (82%)               1                1.27   \n",
              "5     24/35 (69%)               2                1.10   \n",
              "\n",
              "  Expected goals on target (xGOT) Expected assists (xA) Shot accuracy  \\\n",
              "1                            0.89                  0.05     1/4 (25%)   \n",
              "2                            1.84                  0.14    4/4 (100%)   \n",
              "3                            2.03                  0.18     3/4 (75%)   \n",
              "4                            2.17                  0.01    4/4 (100%)   \n",
              "5                            1.90                  0.86    4/4 (100%)   \n",
              "\n",
              "  Big chance missed Blocked shots Touches Successful dribbles  \\\n",
              "1                 1             1      44            0/1 (0%)   \n",
              "2               NaN           NaN      46            0/1 (0%)   \n",
              "3                 2             1      48           3/5 (60%)   \n",
              "4                 3           NaN      31           1/4 (25%)   \n",
              "5               NaN             2      51           1/2 (50%)   \n",
              "\n",
              "  Passes into final third Accurate crosses Accurate long balls Offsides  \\\n",
              "1                       2       1/1 (100%)           1/2 (50%)        1   \n",
              "2                       2              NaN          1/1 (100%)        1   \n",
              "3                       2              NaN          1/1 (100%)      NaN   \n",
              "4                       2              NaN                 NaN      NaN   \n",
              "5                     NaN         0/1 (0%)                 NaN      NaN   \n",
              "\n",
              "  Dispossessed Tackles won Clearances Headed clearance Recoveries  \\\n",
              "1            2  2/2 (100%)          1                1          1   \n",
              "2            3    0/1 (0%)        NaN              NaN          3   \n",
              "3            2           0        NaN              NaN          1   \n",
              "4            1           0        NaN              NaN        NaN   \n",
              "5            1  1/1 (100%)        NaN              NaN          1   \n",
              "\n",
              "  Dribbled past Ground duels won Aerial duels won Was fouled Fouls committed  \\\n",
              "1             1       6/12 (50%)         0/1 (0%)          4               2   \n",
              "2           NaN        3/8 (38%)        2/3 (67%)          2               1   \n",
              "3             2       4/11 (36%)        2/5 (40%)          1               1   \n",
              "4           NaN        3/7 (43%)                0          2               0   \n",
              "5           NaN        3/6 (50%)       1/1 (100%)          1               1   \n",
              "\n",
              "  Interceptions Penalties miss Blocks  \n",
              "1           NaN            NaN    NaN  \n",
              "2           NaN            NaN    NaN  \n",
              "3           NaN            NaN    NaN  \n",
              "4           NaN            NaN    NaN  \n",
              "5           NaN            NaN    NaN  "
            ],
            "text/html": [
              "\n",
              "  <div id=\"df-07880af8-d45b-47b0-b963-ff5daec6185d\">\n",
              "    <div class=\"colab-df-container\">\n",
              "      <div>\n",
              "<style scoped>\n",
              "    .dataframe tbody tr th:only-of-type {\n",
              "        vertical-align: middle;\n",
              "    }\n",
              "\n",
              "    .dataframe tbody tr th {\n",
              "        vertical-align: top;\n",
              "    }\n",
              "\n",
              "    .dataframe thead th {\n",
              "        text-align: right;\n",
              "    }\n",
              "</style>\n",
              "<table border=\"1\" class=\"dataframe\">\n",
              "  <thead>\n",
              "    <tr style=\"text-align: right;\">\n",
              "      <th></th>\n",
              "      <th>FotMob rating</th>\n",
              "      <th>Minutes played</th>\n",
              "      <th>Goals</th>\n",
              "      <th>Assists</th>\n",
              "      <th>Total shots</th>\n",
              "      <th>Shotmap</th>\n",
              "      <th>Accurate passes</th>\n",
              "      <th>Chances created</th>\n",
              "      <th>Expected goals (xG)</th>\n",
              "      <th>Expected goals on target (xGOT)</th>\n",
              "      <th>Expected assists (xA)</th>\n",
              "      <th>Shot accuracy</th>\n",
              "      <th>Big chance missed</th>\n",
              "      <th>Blocked shots</th>\n",
              "      <th>Touches</th>\n",
              "      <th>Successful dribbles</th>\n",
              "      <th>Passes into final third</th>\n",
              "      <th>Accurate crosses</th>\n",
              "      <th>Accurate long balls</th>\n",
              "      <th>Offsides</th>\n",
              "      <th>Dispossessed</th>\n",
              "      <th>Tackles won</th>\n",
              "      <th>Clearances</th>\n",
              "      <th>Headed clearance</th>\n",
              "      <th>Recoveries</th>\n",
              "      <th>Dribbled past</th>\n",
              "      <th>Ground duels won</th>\n",
              "      <th>Aerial duels won</th>\n",
              "      <th>Was fouled</th>\n",
              "      <th>Fouls committed</th>\n",
              "      <th>Interceptions</th>\n",
              "      <th>Penalties miss</th>\n",
              "      <th>Blocks</th>\n",
              "    </tr>\n",
              "  </thead>\n",
              "  <tbody>\n",
              "    <tr>\n",
              "      <th>1</th>\n",
              "      <td>6.78</td>\n",
              "      <td>90</td>\n",
              "      <td>0</td>\n",
              "      <td>0</td>\n",
              "      <td>5</td>\n",
              "      <td>True</td>\n",
              "      <td>11/16 (69%)</td>\n",
              "      <td>2</td>\n",
              "      <td>0.86</td>\n",
              "      <td>0.89</td>\n",
              "      <td>0.05</td>\n",
              "      <td>1/4 (25%)</td>\n",
              "      <td>1</td>\n",
              "      <td>1</td>\n",
              "      <td>44</td>\n",
              "      <td>0/1 (0%)</td>\n",
              "      <td>2</td>\n",
              "      <td>1/1 (100%)</td>\n",
              "      <td>1/2 (50%)</td>\n",
              "      <td>1</td>\n",
              "      <td>2</td>\n",
              "      <td>2/2 (100%)</td>\n",
              "      <td>1</td>\n",
              "      <td>1</td>\n",
              "      <td>1</td>\n",
              "      <td>1</td>\n",
              "      <td>6/12 (50%)</td>\n",
              "      <td>0/1 (0%)</td>\n",
              "      <td>4</td>\n",
              "      <td>2</td>\n",
              "      <td>NaN</td>\n",
              "      <td>NaN</td>\n",
              "      <td>NaN</td>\n",
              "    </tr>\n",
              "    <tr>\n",
              "      <th>2</th>\n",
              "      <td>8.87</td>\n",
              "      <td>90</td>\n",
              "      <td>2</td>\n",
              "      <td>0</td>\n",
              "      <td>4</td>\n",
              "      <td>True</td>\n",
              "      <td>27/30 (90%)</td>\n",
              "      <td>2</td>\n",
              "      <td>0.89</td>\n",
              "      <td>1.84</td>\n",
              "      <td>0.14</td>\n",
              "      <td>4/4 (100%)</td>\n",
              "      <td>NaN</td>\n",
              "      <td>NaN</td>\n",
              "      <td>46</td>\n",
              "      <td>0/1 (0%)</td>\n",
              "      <td>2</td>\n",
              "      <td>NaN</td>\n",
              "      <td>1/1 (100%)</td>\n",
              "      <td>1</td>\n",
              "      <td>3</td>\n",
              "      <td>0/1 (0%)</td>\n",
              "      <td>NaN</td>\n",
              "      <td>NaN</td>\n",
              "      <td>3</td>\n",
              "      <td>NaN</td>\n",
              "      <td>3/8 (38%)</td>\n",
              "      <td>2/3 (67%)</td>\n",
              "      <td>2</td>\n",
              "      <td>1</td>\n",
              "      <td>NaN</td>\n",
              "      <td>NaN</td>\n",
              "      <td>NaN</td>\n",
              "    </tr>\n",
              "    <tr>\n",
              "      <th>3</th>\n",
              "      <td>9.24</td>\n",
              "      <td>90</td>\n",
              "      <td>2</td>\n",
              "      <td>0</td>\n",
              "      <td>5</td>\n",
              "      <td>True</td>\n",
              "      <td>27/31 (87%)</td>\n",
              "      <td>3</td>\n",
              "      <td>0.88</td>\n",
              "      <td>2.03</td>\n",
              "      <td>0.18</td>\n",
              "      <td>3/4 (75%)</td>\n",
              "      <td>2</td>\n",
              "      <td>1</td>\n",
              "      <td>48</td>\n",
              "      <td>3/5 (60%)</td>\n",
              "      <td>2</td>\n",
              "      <td>NaN</td>\n",
              "      <td>1/1 (100%)</td>\n",
              "      <td>NaN</td>\n",
              "      <td>2</td>\n",
              "      <td>0</td>\n",
              "      <td>NaN</td>\n",
              "      <td>NaN</td>\n",
              "      <td>1</td>\n",
              "      <td>2</td>\n",
              "      <td>4/11 (36%)</td>\n",
              "      <td>2/5 (40%)</td>\n",
              "      <td>1</td>\n",
              "      <td>1</td>\n",
              "      <td>NaN</td>\n",
              "      <td>NaN</td>\n",
              "      <td>NaN</td>\n",
              "    </tr>\n",
              "    <tr>\n",
              "      <th>4</th>\n",
              "      <td>8.05</td>\n",
              "      <td>74</td>\n",
              "      <td>1</td>\n",
              "      <td>0</td>\n",
              "      <td>4</td>\n",
              "      <td>True</td>\n",
              "      <td>14/17 (82%)</td>\n",
              "      <td>1</td>\n",
              "      <td>1.27</td>\n",
              "      <td>2.17</td>\n",
              "      <td>0.01</td>\n",
              "      <td>4/4 (100%)</td>\n",
              "      <td>3</td>\n",
              "      <td>NaN</td>\n",
              "      <td>31</td>\n",
              "      <td>1/4 (25%)</td>\n",
              "      <td>2</td>\n",
              "      <td>NaN</td>\n",
              "      <td>NaN</td>\n",
              "      <td>NaN</td>\n",
              "      <td>1</td>\n",
              "      <td>0</td>\n",
              "      <td>NaN</td>\n",
              "      <td>NaN</td>\n",
              "      <td>NaN</td>\n",
              "      <td>NaN</td>\n",
              "      <td>3/7 (43%)</td>\n",
              "      <td>0</td>\n",
              "      <td>2</td>\n",
              "      <td>0</td>\n",
              "      <td>NaN</td>\n",
              "      <td>NaN</td>\n",
              "      <td>NaN</td>\n",
              "    </tr>\n",
              "    <tr>\n",
              "      <th>5</th>\n",
              "      <td>9.71</td>\n",
              "      <td>90</td>\n",
              "      <td>3</td>\n",
              "      <td>0</td>\n",
              "      <td>6</td>\n",
              "      <td>True</td>\n",
              "      <td>24/35 (69%)</td>\n",
              "      <td>2</td>\n",
              "      <td>1.10</td>\n",
              "      <td>1.90</td>\n",
              "      <td>0.86</td>\n",
              "      <td>4/4 (100%)</td>\n",
              "      <td>NaN</td>\n",
              "      <td>2</td>\n",
              "      <td>51</td>\n",
              "      <td>1/2 (50%)</td>\n",
              "      <td>NaN</td>\n",
              "      <td>0/1 (0%)</td>\n",
              "      <td>NaN</td>\n",
              "      <td>NaN</td>\n",
              "      <td>1</td>\n",
              "      <td>1/1 (100%)</td>\n",
              "      <td>NaN</td>\n",
              "      <td>NaN</td>\n",
              "      <td>1</td>\n",
              "      <td>NaN</td>\n",
              "      <td>3/6 (50%)</td>\n",
              "      <td>1/1 (100%)</td>\n",
              "      <td>1</td>\n",
              "      <td>1</td>\n",
              "      <td>NaN</td>\n",
              "      <td>NaN</td>\n",
              "      <td>NaN</td>\n",
              "    </tr>\n",
              "  </tbody>\n",
              "</table>\n",
              "</div>\n",
              "      <button class=\"colab-df-convert\" onclick=\"convertToInteractive('df-07880af8-d45b-47b0-b963-ff5daec6185d')\"\n",
              "              title=\"Convert this dataframe to an interactive table.\"\n",
              "              style=\"display:none;\">\n",
              "        \n",
              "  <svg xmlns=\"http://www.w3.org/2000/svg\" height=\"24px\"viewBox=\"0 0 24 24\"\n",
              "       width=\"24px\">\n",
              "    <path d=\"M0 0h24v24H0V0z\" fill=\"none\"/>\n",
              "    <path d=\"M18.56 5.44l.94 2.06.94-2.06 2.06-.94-2.06-.94-.94-2.06-.94 2.06-2.06.94zm-11 1L8.5 8.5l.94-2.06 2.06-.94-2.06-.94L8.5 2.5l-.94 2.06-2.06.94zm10 10l.94 2.06.94-2.06 2.06-.94-2.06-.94-.94-2.06-.94 2.06-2.06.94z\"/><path d=\"M17.41 7.96l-1.37-1.37c-.4-.4-.92-.59-1.43-.59-.52 0-1.04.2-1.43.59L10.3 9.45l-7.72 7.72c-.78.78-.78 2.05 0 2.83L4 21.41c.39.39.9.59 1.41.59.51 0 1.02-.2 1.41-.59l7.78-7.78 2.81-2.81c.8-.78.8-2.07 0-2.86zM5.41 20L4 18.59l7.72-7.72 1.47 1.35L5.41 20z\"/>\n",
              "  </svg>\n",
              "      </button>\n",
              "      \n",
              "  <style>\n",
              "    .colab-df-container {\n",
              "      display:flex;\n",
              "      flex-wrap:wrap;\n",
              "      gap: 12px;\n",
              "    }\n",
              "\n",
              "    .colab-df-convert {\n",
              "      background-color: #E8F0FE;\n",
              "      border: none;\n",
              "      border-radius: 50%;\n",
              "      cursor: pointer;\n",
              "      display: none;\n",
              "      fill: #1967D2;\n",
              "      height: 32px;\n",
              "      padding: 0 0 0 0;\n",
              "      width: 32px;\n",
              "    }\n",
              "\n",
              "    .colab-df-convert:hover {\n",
              "      background-color: #E2EBFA;\n",
              "      box-shadow: 0px 1px 2px rgba(60, 64, 67, 0.3), 0px 1px 3px 1px rgba(60, 64, 67, 0.15);\n",
              "      fill: #174EA6;\n",
              "    }\n",
              "\n",
              "    [theme=dark] .colab-df-convert {\n",
              "      background-color: #3B4455;\n",
              "      fill: #D2E3FC;\n",
              "    }\n",
              "\n",
              "    [theme=dark] .colab-df-convert:hover {\n",
              "      background-color: #434B5C;\n",
              "      box-shadow: 0px 1px 3px 1px rgba(0, 0, 0, 0.15);\n",
              "      filter: drop-shadow(0px 1px 2px rgba(0, 0, 0, 0.3));\n",
              "      fill: #FFFFFF;\n",
              "    }\n",
              "  </style>\n",
              "\n",
              "      <script>\n",
              "        const buttonEl =\n",
              "          document.querySelector('#df-07880af8-d45b-47b0-b963-ff5daec6185d button.colab-df-convert');\n",
              "        buttonEl.style.display =\n",
              "          google.colab.kernel.accessAllowed ? 'block' : 'none';\n",
              "\n",
              "        async function convertToInteractive(key) {\n",
              "          const element = document.querySelector('#df-07880af8-d45b-47b0-b963-ff5daec6185d');\n",
              "          const dataTable =\n",
              "            await google.colab.kernel.invokeFunction('convertToInteractive',\n",
              "                                                     [key], {});\n",
              "          if (!dataTable) return;\n",
              "\n",
              "          const docLinkHtml = 'Like what you see? Visit the ' +\n",
              "            '<a target=\"_blank\" href=https://colab.research.google.com/notebooks/data_table.ipynb>data table notebook</a>'\n",
              "            + ' to learn more about interactive tables.';\n",
              "          element.innerHTML = '';\n",
              "          dataTable['output_type'] = 'display_data';\n",
              "          await google.colab.output.renderOutput(dataTable, element);\n",
              "          const docLink = document.createElement('div');\n",
              "          docLink.innerHTML = docLinkHtml;\n",
              "          element.appendChild(docLink);\n",
              "        }\n",
              "      </script>\n",
              "    </div>\n",
              "  </div>\n",
              "  "
            ]
          },
          "metadata": {},
          "execution_count": 22
        }
      ]
    },
    {
      "cell_type": "code",
      "source": [
        "passes_df = all_stats_df['Accurate passes'].str.extract(r'(?P<passes_number>\\d+)/(?P<accurate_passes_number>\\d+)\\s*\\((?P<pass_accuracy>\\d+)%\\)').astype(int)\n",
        "passes_df[\"pass_accuracy\"] /= 100"
      ],
      "metadata": {
        "id": "9ShrV9CVjc7j"
      },
      "execution_count": null,
      "outputs": []
    },
    {
      "cell_type": "code",
      "source": [
        "passes_df.head()"
      ],
      "metadata": {
        "colab": {
          "base_uri": "https://localhost:8080/",
          "height": 206
        },
        "id": "5bJEgrGvieOi",
        "outputId": "79bb1b60-cea9-4785-c821-26f1a7ca7355"
      },
      "execution_count": null,
      "outputs": [
        {
          "output_type": "execute_result",
          "data": {
            "text/plain": [
              "   passes_number  accurate_passes_number  pass_accuracy\n",
              "1             11                      16           0.69\n",
              "2             27                      30           0.90\n",
              "3             27                      31           0.87\n",
              "4             14                      17           0.82\n",
              "5             24                      35           0.69"
            ],
            "text/html": [
              "\n",
              "  <div id=\"df-9d177b8b-ae8c-4ab9-8d1e-0121689de113\">\n",
              "    <div class=\"colab-df-container\">\n",
              "      <div>\n",
              "<style scoped>\n",
              "    .dataframe tbody tr th:only-of-type {\n",
              "        vertical-align: middle;\n",
              "    }\n",
              "\n",
              "    .dataframe tbody tr th {\n",
              "        vertical-align: top;\n",
              "    }\n",
              "\n",
              "    .dataframe thead th {\n",
              "        text-align: right;\n",
              "    }\n",
              "</style>\n",
              "<table border=\"1\" class=\"dataframe\">\n",
              "  <thead>\n",
              "    <tr style=\"text-align: right;\">\n",
              "      <th></th>\n",
              "      <th>passes_number</th>\n",
              "      <th>accurate_passes_number</th>\n",
              "      <th>pass_accuracy</th>\n",
              "    </tr>\n",
              "  </thead>\n",
              "  <tbody>\n",
              "    <tr>\n",
              "      <th>1</th>\n",
              "      <td>11</td>\n",
              "      <td>16</td>\n",
              "      <td>0.69</td>\n",
              "    </tr>\n",
              "    <tr>\n",
              "      <th>2</th>\n",
              "      <td>27</td>\n",
              "      <td>30</td>\n",
              "      <td>0.90</td>\n",
              "    </tr>\n",
              "    <tr>\n",
              "      <th>3</th>\n",
              "      <td>27</td>\n",
              "      <td>31</td>\n",
              "      <td>0.87</td>\n",
              "    </tr>\n",
              "    <tr>\n",
              "      <th>4</th>\n",
              "      <td>14</td>\n",
              "      <td>17</td>\n",
              "      <td>0.82</td>\n",
              "    </tr>\n",
              "    <tr>\n",
              "      <th>5</th>\n",
              "      <td>24</td>\n",
              "      <td>35</td>\n",
              "      <td>0.69</td>\n",
              "    </tr>\n",
              "  </tbody>\n",
              "</table>\n",
              "</div>\n",
              "      <button class=\"colab-df-convert\" onclick=\"convertToInteractive('df-9d177b8b-ae8c-4ab9-8d1e-0121689de113')\"\n",
              "              title=\"Convert this dataframe to an interactive table.\"\n",
              "              style=\"display:none;\">\n",
              "        \n",
              "  <svg xmlns=\"http://www.w3.org/2000/svg\" height=\"24px\"viewBox=\"0 0 24 24\"\n",
              "       width=\"24px\">\n",
              "    <path d=\"M0 0h24v24H0V0z\" fill=\"none\"/>\n",
              "    <path d=\"M18.56 5.44l.94 2.06.94-2.06 2.06-.94-2.06-.94-.94-2.06-.94 2.06-2.06.94zm-11 1L8.5 8.5l.94-2.06 2.06-.94-2.06-.94L8.5 2.5l-.94 2.06-2.06.94zm10 10l.94 2.06.94-2.06 2.06-.94-2.06-.94-.94-2.06-.94 2.06-2.06.94z\"/><path d=\"M17.41 7.96l-1.37-1.37c-.4-.4-.92-.59-1.43-.59-.52 0-1.04.2-1.43.59L10.3 9.45l-7.72 7.72c-.78.78-.78 2.05 0 2.83L4 21.41c.39.39.9.59 1.41.59.51 0 1.02-.2 1.41-.59l7.78-7.78 2.81-2.81c.8-.78.8-2.07 0-2.86zM5.41 20L4 18.59l7.72-7.72 1.47 1.35L5.41 20z\"/>\n",
              "  </svg>\n",
              "      </button>\n",
              "      \n",
              "  <style>\n",
              "    .colab-df-container {\n",
              "      display:flex;\n",
              "      flex-wrap:wrap;\n",
              "      gap: 12px;\n",
              "    }\n",
              "\n",
              "    .colab-df-convert {\n",
              "      background-color: #E8F0FE;\n",
              "      border: none;\n",
              "      border-radius: 50%;\n",
              "      cursor: pointer;\n",
              "      display: none;\n",
              "      fill: #1967D2;\n",
              "      height: 32px;\n",
              "      padding: 0 0 0 0;\n",
              "      width: 32px;\n",
              "    }\n",
              "\n",
              "    .colab-df-convert:hover {\n",
              "      background-color: #E2EBFA;\n",
              "      box-shadow: 0px 1px 2px rgba(60, 64, 67, 0.3), 0px 1px 3px 1px rgba(60, 64, 67, 0.15);\n",
              "      fill: #174EA6;\n",
              "    }\n",
              "\n",
              "    [theme=dark] .colab-df-convert {\n",
              "      background-color: #3B4455;\n",
              "      fill: #D2E3FC;\n",
              "    }\n",
              "\n",
              "    [theme=dark] .colab-df-convert:hover {\n",
              "      background-color: #434B5C;\n",
              "      box-shadow: 0px 1px 3px 1px rgba(0, 0, 0, 0.15);\n",
              "      filter: drop-shadow(0px 1px 2px rgba(0, 0, 0, 0.3));\n",
              "      fill: #FFFFFF;\n",
              "    }\n",
              "  </style>\n",
              "\n",
              "      <script>\n",
              "        const buttonEl =\n",
              "          document.querySelector('#df-9d177b8b-ae8c-4ab9-8d1e-0121689de113 button.colab-df-convert');\n",
              "        buttonEl.style.display =\n",
              "          google.colab.kernel.accessAllowed ? 'block' : 'none';\n",
              "\n",
              "        async function convertToInteractive(key) {\n",
              "          const element = document.querySelector('#df-9d177b8b-ae8c-4ab9-8d1e-0121689de113');\n",
              "          const dataTable =\n",
              "            await google.colab.kernel.invokeFunction('convertToInteractive',\n",
              "                                                     [key], {});\n",
              "          if (!dataTable) return;\n",
              "\n",
              "          const docLinkHtml = 'Like what you see? Visit the ' +\n",
              "            '<a target=\"_blank\" href=https://colab.research.google.com/notebooks/data_table.ipynb>data table notebook</a>'\n",
              "            + ' to learn more about interactive tables.';\n",
              "          element.innerHTML = '';\n",
              "          dataTable['output_type'] = 'display_data';\n",
              "          await google.colab.output.renderOutput(dataTable, element);\n",
              "          const docLink = document.createElement('div');\n",
              "          docLink.innerHTML = docLinkHtml;\n",
              "          element.appendChild(docLink);\n",
              "        }\n",
              "      </script>\n",
              "    </div>\n",
              "  </div>\n",
              "  "
            ]
          },
          "metadata": {},
          "execution_count": 24
        }
      ]
    },
    {
      "cell_type": "code",
      "source": [
        "useful_stats = all_stats_df[[\"FotMob rating\",\"Minutes played\",\"Goals\"\t,\"Assists\"\t,\"Total shots\", \"Chances created\", \"Expected goals (xG)\", \"Expected goals on target (xGOT)\",\"Expected assists (xA)\", \"Touches\"]].astype(float)"
      ],
      "metadata": {
        "id": "lzMNjgWFFtHN"
      },
      "execution_count": null,
      "outputs": []
    },
    {
      "cell_type": "code",
      "source": [
        "\n",
        "useful_stats = pd.concat([useful_stats, passes_df], axis=1)"
      ],
      "metadata": {
        "id": "c-XZEsT-u_Sn"
      },
      "execution_count": null,
      "outputs": []
    },
    {
      "cell_type": "code",
      "source": [
        "useful_stats.head()"
      ],
      "metadata": {
        "id": "t-R7dPqXvFnh",
        "colab": {
          "base_uri": "https://localhost:8080/",
          "height": 267
        },
        "outputId": "a0dce248-dca1-42a4-88a0-3e918479d03c"
      },
      "execution_count": null,
      "outputs": [
        {
          "output_type": "execute_result",
          "data": {
            "text/plain": [
              "   FotMob rating  Minutes played  Goals  Assists  Total shots  \\\n",
              "1           6.78            90.0    0.0      0.0          5.0   \n",
              "2           8.87            90.0    2.0      0.0          4.0   \n",
              "3           9.24            90.0    2.0      0.0          5.0   \n",
              "4           8.05            74.0    1.0      0.0          4.0   \n",
              "5           9.71            90.0    3.0      0.0          6.0   \n",
              "\n",
              "   Chances created  Expected goals (xG)  Expected goals on target (xGOT)  \\\n",
              "1              2.0                 0.86                             0.89   \n",
              "2              2.0                 0.89                             1.84   \n",
              "3              3.0                 0.88                             2.03   \n",
              "4              1.0                 1.27                             2.17   \n",
              "5              2.0                 1.10                             1.90   \n",
              "\n",
              "   Expected assists (xA)  Touches  passes_number  accurate_passes_number  \\\n",
              "1                   0.05     44.0             11                      16   \n",
              "2                   0.14     46.0             27                      30   \n",
              "3                   0.18     48.0             27                      31   \n",
              "4                   0.01     31.0             14                      17   \n",
              "5                   0.86     51.0             24                      35   \n",
              "\n",
              "   pass_accuracy  \n",
              "1           0.69  \n",
              "2           0.90  \n",
              "3           0.87  \n",
              "4           0.82  \n",
              "5           0.69  "
            ],
            "text/html": [
              "\n",
              "  <div id=\"df-d87107c7-134f-4cb9-8213-caa10ff11e8d\">\n",
              "    <div class=\"colab-df-container\">\n",
              "      <div>\n",
              "<style scoped>\n",
              "    .dataframe tbody tr th:only-of-type {\n",
              "        vertical-align: middle;\n",
              "    }\n",
              "\n",
              "    .dataframe tbody tr th {\n",
              "        vertical-align: top;\n",
              "    }\n",
              "\n",
              "    .dataframe thead th {\n",
              "        text-align: right;\n",
              "    }\n",
              "</style>\n",
              "<table border=\"1\" class=\"dataframe\">\n",
              "  <thead>\n",
              "    <tr style=\"text-align: right;\">\n",
              "      <th></th>\n",
              "      <th>FotMob rating</th>\n",
              "      <th>Minutes played</th>\n",
              "      <th>Goals</th>\n",
              "      <th>Assists</th>\n",
              "      <th>Total shots</th>\n",
              "      <th>Chances created</th>\n",
              "      <th>Expected goals (xG)</th>\n",
              "      <th>Expected goals on target (xGOT)</th>\n",
              "      <th>Expected assists (xA)</th>\n",
              "      <th>Touches</th>\n",
              "      <th>passes_number</th>\n",
              "      <th>accurate_passes_number</th>\n",
              "      <th>pass_accuracy</th>\n",
              "    </tr>\n",
              "  </thead>\n",
              "  <tbody>\n",
              "    <tr>\n",
              "      <th>1</th>\n",
              "      <td>6.78</td>\n",
              "      <td>90.0</td>\n",
              "      <td>0.0</td>\n",
              "      <td>0.0</td>\n",
              "      <td>5.0</td>\n",
              "      <td>2.0</td>\n",
              "      <td>0.86</td>\n",
              "      <td>0.89</td>\n",
              "      <td>0.05</td>\n",
              "      <td>44.0</td>\n",
              "      <td>11</td>\n",
              "      <td>16</td>\n",
              "      <td>0.69</td>\n",
              "    </tr>\n",
              "    <tr>\n",
              "      <th>2</th>\n",
              "      <td>8.87</td>\n",
              "      <td>90.0</td>\n",
              "      <td>2.0</td>\n",
              "      <td>0.0</td>\n",
              "      <td>4.0</td>\n",
              "      <td>2.0</td>\n",
              "      <td>0.89</td>\n",
              "      <td>1.84</td>\n",
              "      <td>0.14</td>\n",
              "      <td>46.0</td>\n",
              "      <td>27</td>\n",
              "      <td>30</td>\n",
              "      <td>0.90</td>\n",
              "    </tr>\n",
              "    <tr>\n",
              "      <th>3</th>\n",
              "      <td>9.24</td>\n",
              "      <td>90.0</td>\n",
              "      <td>2.0</td>\n",
              "      <td>0.0</td>\n",
              "      <td>5.0</td>\n",
              "      <td>3.0</td>\n",
              "      <td>0.88</td>\n",
              "      <td>2.03</td>\n",
              "      <td>0.18</td>\n",
              "      <td>48.0</td>\n",
              "      <td>27</td>\n",
              "      <td>31</td>\n",
              "      <td>0.87</td>\n",
              "    </tr>\n",
              "    <tr>\n",
              "      <th>4</th>\n",
              "      <td>8.05</td>\n",
              "      <td>74.0</td>\n",
              "      <td>1.0</td>\n",
              "      <td>0.0</td>\n",
              "      <td>4.0</td>\n",
              "      <td>1.0</td>\n",
              "      <td>1.27</td>\n",
              "      <td>2.17</td>\n",
              "      <td>0.01</td>\n",
              "      <td>31.0</td>\n",
              "      <td>14</td>\n",
              "      <td>17</td>\n",
              "      <td>0.82</td>\n",
              "    </tr>\n",
              "    <tr>\n",
              "      <th>5</th>\n",
              "      <td>9.71</td>\n",
              "      <td>90.0</td>\n",
              "      <td>3.0</td>\n",
              "      <td>0.0</td>\n",
              "      <td>6.0</td>\n",
              "      <td>2.0</td>\n",
              "      <td>1.10</td>\n",
              "      <td>1.90</td>\n",
              "      <td>0.86</td>\n",
              "      <td>51.0</td>\n",
              "      <td>24</td>\n",
              "      <td>35</td>\n",
              "      <td>0.69</td>\n",
              "    </tr>\n",
              "  </tbody>\n",
              "</table>\n",
              "</div>\n",
              "      <button class=\"colab-df-convert\" onclick=\"convertToInteractive('df-d87107c7-134f-4cb9-8213-caa10ff11e8d')\"\n",
              "              title=\"Convert this dataframe to an interactive table.\"\n",
              "              style=\"display:none;\">\n",
              "        \n",
              "  <svg xmlns=\"http://www.w3.org/2000/svg\" height=\"24px\"viewBox=\"0 0 24 24\"\n",
              "       width=\"24px\">\n",
              "    <path d=\"M0 0h24v24H0V0z\" fill=\"none\"/>\n",
              "    <path d=\"M18.56 5.44l.94 2.06.94-2.06 2.06-.94-2.06-.94-.94-2.06-.94 2.06-2.06.94zm-11 1L8.5 8.5l.94-2.06 2.06-.94-2.06-.94L8.5 2.5l-.94 2.06-2.06.94zm10 10l.94 2.06.94-2.06 2.06-.94-2.06-.94-.94-2.06-.94 2.06-2.06.94z\"/><path d=\"M17.41 7.96l-1.37-1.37c-.4-.4-.92-.59-1.43-.59-.52 0-1.04.2-1.43.59L10.3 9.45l-7.72 7.72c-.78.78-.78 2.05 0 2.83L4 21.41c.39.39.9.59 1.41.59.51 0 1.02-.2 1.41-.59l7.78-7.78 2.81-2.81c.8-.78.8-2.07 0-2.86zM5.41 20L4 18.59l7.72-7.72 1.47 1.35L5.41 20z\"/>\n",
              "  </svg>\n",
              "      </button>\n",
              "      \n",
              "  <style>\n",
              "    .colab-df-container {\n",
              "      display:flex;\n",
              "      flex-wrap:wrap;\n",
              "      gap: 12px;\n",
              "    }\n",
              "\n",
              "    .colab-df-convert {\n",
              "      background-color: #E8F0FE;\n",
              "      border: none;\n",
              "      border-radius: 50%;\n",
              "      cursor: pointer;\n",
              "      display: none;\n",
              "      fill: #1967D2;\n",
              "      height: 32px;\n",
              "      padding: 0 0 0 0;\n",
              "      width: 32px;\n",
              "    }\n",
              "\n",
              "    .colab-df-convert:hover {\n",
              "      background-color: #E2EBFA;\n",
              "      box-shadow: 0px 1px 2px rgba(60, 64, 67, 0.3), 0px 1px 3px 1px rgba(60, 64, 67, 0.15);\n",
              "      fill: #174EA6;\n",
              "    }\n",
              "\n",
              "    [theme=dark] .colab-df-convert {\n",
              "      background-color: #3B4455;\n",
              "      fill: #D2E3FC;\n",
              "    }\n",
              "\n",
              "    [theme=dark] .colab-df-convert:hover {\n",
              "      background-color: #434B5C;\n",
              "      box-shadow: 0px 1px 3px 1px rgba(0, 0, 0, 0.15);\n",
              "      filter: drop-shadow(0px 1px 2px rgba(0, 0, 0, 0.3));\n",
              "      fill: #FFFFFF;\n",
              "    }\n",
              "  </style>\n",
              "\n",
              "      <script>\n",
              "        const buttonEl =\n",
              "          document.querySelector('#df-d87107c7-134f-4cb9-8213-caa10ff11e8d button.colab-df-convert');\n",
              "        buttonEl.style.display =\n",
              "          google.colab.kernel.accessAllowed ? 'block' : 'none';\n",
              "\n",
              "        async function convertToInteractive(key) {\n",
              "          const element = document.querySelector('#df-d87107c7-134f-4cb9-8213-caa10ff11e8d');\n",
              "          const dataTable =\n",
              "            await google.colab.kernel.invokeFunction('convertToInteractive',\n",
              "                                                     [key], {});\n",
              "          if (!dataTable) return;\n",
              "\n",
              "          const docLinkHtml = 'Like what you see? Visit the ' +\n",
              "            '<a target=\"_blank\" href=https://colab.research.google.com/notebooks/data_table.ipynb>data table notebook</a>'\n",
              "            + ' to learn more about interactive tables.';\n",
              "          element.innerHTML = '';\n",
              "          dataTable['output_type'] = 'display_data';\n",
              "          await google.colab.output.renderOutput(dataTable, element);\n",
              "          const docLink = document.createElement('div');\n",
              "          docLink.innerHTML = docLinkHtml;\n",
              "          element.appendChild(docLink);\n",
              "        }\n",
              "      </script>\n",
              "    </div>\n",
              "  </div>\n",
              "  "
            ]
          },
          "metadata": {},
          "execution_count": 27
        }
      ]
    },
    {
      "cell_type": "code",
      "source": [
        "xg_shots = useful_stats.groupby(\"Total shots\")[\"Expected goals (xG)\"].mean()\n",
        "xgot_shots = useful_stats.groupby(\"Total shots\")[\"Expected goals on target (xGOT)\"].mean()"
      ],
      "metadata": {
        "id": "AIJWnObwvJCR"
      },
      "execution_count": null,
      "outputs": []
    },
    {
      "cell_type": "code",
      "source": [
        "for x,y in xg_shots.iteritems():\n",
        "    print(x,y)"
      ],
      "metadata": {
        "id": "CH7B49j-yMhu",
        "colab": {
          "base_uri": "https://localhost:8080/"
        },
        "outputId": "ddd2e87a-1e0b-4ec8-c99a-970c9a77e68b"
      },
      "execution_count": null,
      "outputs": [
        {
          "output_type": "stream",
          "name": "stdout",
          "text": [
            "1.0 0.28750000000000003\n",
            "2.0 0.19333333333333336\n",
            "3.0 0.545\n",
            "4.0 0.7020000000000001\n",
            "5.0 0.87\n",
            "6.0 1.218\n",
            "7.0 1.1\n",
            "8.0 0.65\n"
          ]
        }
      ]
    },
    {
      "cell_type": "code",
      "source": [
        "for x,y in xg_shots.iteritems():\n",
        "    useful_stats.loc[useful_stats[\"Total shots\"] == x, \"Expected goals (xG)\"] = useful_stats.loc[useful_stats[\"Total shots\"] == x, \"Expected goals (xG)\"].fillna(y)"
      ],
      "metadata": {
        "id": "4_XsUXJAvfky"
      },
      "execution_count": null,
      "outputs": []
    },
    {
      "cell_type": "code",
      "source": [
        "for x,y in xgot_shots.iteritems():\n",
        "    useful_stats.loc[useful_stats[\"Total shots\"] == x, \"Expected goals on target (xGOT)\"] = useful_stats.loc[useful_stats[\"Total shots\"] == x, \"Expected goals on target (xGOT)\"].fillna(y)"
      ],
      "metadata": {
        "id": "LURgdgzMBCPI"
      },
      "execution_count": null,
      "outputs": []
    },
    {
      "cell_type": "code",
      "source": [
        "useful_stats[\"Expected assists (xA)\"].fillna(useful_stats[\"Expected assists (xA)\"].mean(), inplace=True)"
      ],
      "metadata": {
        "id": "y9I7XkNY6FIM"
      },
      "execution_count": null,
      "outputs": []
    },
    {
      "cell_type": "code",
      "source": [
        "useful_stats.head()"
      ],
      "metadata": {
        "id": "sVDD2EfEylkt",
        "colab": {
          "base_uri": "https://localhost:8080/",
          "height": 267
        },
        "outputId": "4d06f933-e2e9-44b2-a071-bb07d3cbd8d6"
      },
      "execution_count": null,
      "outputs": [
        {
          "output_type": "execute_result",
          "data": {
            "text/plain": [
              "   FotMob rating  Minutes played  Goals  Assists  Total shots  \\\n",
              "1           6.78            90.0    0.0      0.0          5.0   \n",
              "2           8.87            90.0    2.0      0.0          4.0   \n",
              "3           9.24            90.0    2.0      0.0          5.0   \n",
              "4           8.05            74.0    1.0      0.0          4.0   \n",
              "5           9.71            90.0    3.0      0.0          6.0   \n",
              "\n",
              "   Chances created  Expected goals (xG)  Expected goals on target (xGOT)  \\\n",
              "1              2.0                 0.86                             0.89   \n",
              "2              2.0                 0.89                             1.84   \n",
              "3              3.0                 0.88                             2.03   \n",
              "4              1.0                 1.27                             2.17   \n",
              "5              2.0                 1.10                             1.90   \n",
              "\n",
              "   Expected assists (xA)  Touches  passes_number  accurate_passes_number  \\\n",
              "1                   0.05     44.0             11                      16   \n",
              "2                   0.14     46.0             27                      30   \n",
              "3                   0.18     48.0             27                      31   \n",
              "4                   0.01     31.0             14                      17   \n",
              "5                   0.86     51.0             24                      35   \n",
              "\n",
              "   pass_accuracy  \n",
              "1           0.69  \n",
              "2           0.90  \n",
              "3           0.87  \n",
              "4           0.82  \n",
              "5           0.69  "
            ],
            "text/html": [
              "\n",
              "  <div id=\"df-0f5a6dad-d527-4872-9aed-3f0ff5f74e25\">\n",
              "    <div class=\"colab-df-container\">\n",
              "      <div>\n",
              "<style scoped>\n",
              "    .dataframe tbody tr th:only-of-type {\n",
              "        vertical-align: middle;\n",
              "    }\n",
              "\n",
              "    .dataframe tbody tr th {\n",
              "        vertical-align: top;\n",
              "    }\n",
              "\n",
              "    .dataframe thead th {\n",
              "        text-align: right;\n",
              "    }\n",
              "</style>\n",
              "<table border=\"1\" class=\"dataframe\">\n",
              "  <thead>\n",
              "    <tr style=\"text-align: right;\">\n",
              "      <th></th>\n",
              "      <th>FotMob rating</th>\n",
              "      <th>Minutes played</th>\n",
              "      <th>Goals</th>\n",
              "      <th>Assists</th>\n",
              "      <th>Total shots</th>\n",
              "      <th>Chances created</th>\n",
              "      <th>Expected goals (xG)</th>\n",
              "      <th>Expected goals on target (xGOT)</th>\n",
              "      <th>Expected assists (xA)</th>\n",
              "      <th>Touches</th>\n",
              "      <th>passes_number</th>\n",
              "      <th>accurate_passes_number</th>\n",
              "      <th>pass_accuracy</th>\n",
              "    </tr>\n",
              "  </thead>\n",
              "  <tbody>\n",
              "    <tr>\n",
              "      <th>1</th>\n",
              "      <td>6.78</td>\n",
              "      <td>90.0</td>\n",
              "      <td>0.0</td>\n",
              "      <td>0.0</td>\n",
              "      <td>5.0</td>\n",
              "      <td>2.0</td>\n",
              "      <td>0.86</td>\n",
              "      <td>0.89</td>\n",
              "      <td>0.05</td>\n",
              "      <td>44.0</td>\n",
              "      <td>11</td>\n",
              "      <td>16</td>\n",
              "      <td>0.69</td>\n",
              "    </tr>\n",
              "    <tr>\n",
              "      <th>2</th>\n",
              "      <td>8.87</td>\n",
              "      <td>90.0</td>\n",
              "      <td>2.0</td>\n",
              "      <td>0.0</td>\n",
              "      <td>4.0</td>\n",
              "      <td>2.0</td>\n",
              "      <td>0.89</td>\n",
              "      <td>1.84</td>\n",
              "      <td>0.14</td>\n",
              "      <td>46.0</td>\n",
              "      <td>27</td>\n",
              "      <td>30</td>\n",
              "      <td>0.90</td>\n",
              "    </tr>\n",
              "    <tr>\n",
              "      <th>3</th>\n",
              "      <td>9.24</td>\n",
              "      <td>90.0</td>\n",
              "      <td>2.0</td>\n",
              "      <td>0.0</td>\n",
              "      <td>5.0</td>\n",
              "      <td>3.0</td>\n",
              "      <td>0.88</td>\n",
              "      <td>2.03</td>\n",
              "      <td>0.18</td>\n",
              "      <td>48.0</td>\n",
              "      <td>27</td>\n",
              "      <td>31</td>\n",
              "      <td>0.87</td>\n",
              "    </tr>\n",
              "    <tr>\n",
              "      <th>4</th>\n",
              "      <td>8.05</td>\n",
              "      <td>74.0</td>\n",
              "      <td>1.0</td>\n",
              "      <td>0.0</td>\n",
              "      <td>4.0</td>\n",
              "      <td>1.0</td>\n",
              "      <td>1.27</td>\n",
              "      <td>2.17</td>\n",
              "      <td>0.01</td>\n",
              "      <td>31.0</td>\n",
              "      <td>14</td>\n",
              "      <td>17</td>\n",
              "      <td>0.82</td>\n",
              "    </tr>\n",
              "    <tr>\n",
              "      <th>5</th>\n",
              "      <td>9.71</td>\n",
              "      <td>90.0</td>\n",
              "      <td>3.0</td>\n",
              "      <td>0.0</td>\n",
              "      <td>6.0</td>\n",
              "      <td>2.0</td>\n",
              "      <td>1.10</td>\n",
              "      <td>1.90</td>\n",
              "      <td>0.86</td>\n",
              "      <td>51.0</td>\n",
              "      <td>24</td>\n",
              "      <td>35</td>\n",
              "      <td>0.69</td>\n",
              "    </tr>\n",
              "  </tbody>\n",
              "</table>\n",
              "</div>\n",
              "      <button class=\"colab-df-convert\" onclick=\"convertToInteractive('df-0f5a6dad-d527-4872-9aed-3f0ff5f74e25')\"\n",
              "              title=\"Convert this dataframe to an interactive table.\"\n",
              "              style=\"display:none;\">\n",
              "        \n",
              "  <svg xmlns=\"http://www.w3.org/2000/svg\" height=\"24px\"viewBox=\"0 0 24 24\"\n",
              "       width=\"24px\">\n",
              "    <path d=\"M0 0h24v24H0V0z\" fill=\"none\"/>\n",
              "    <path d=\"M18.56 5.44l.94 2.06.94-2.06 2.06-.94-2.06-.94-.94-2.06-.94 2.06-2.06.94zm-11 1L8.5 8.5l.94-2.06 2.06-.94-2.06-.94L8.5 2.5l-.94 2.06-2.06.94zm10 10l.94 2.06.94-2.06 2.06-.94-2.06-.94-.94-2.06-.94 2.06-2.06.94z\"/><path d=\"M17.41 7.96l-1.37-1.37c-.4-.4-.92-.59-1.43-.59-.52 0-1.04.2-1.43.59L10.3 9.45l-7.72 7.72c-.78.78-.78 2.05 0 2.83L4 21.41c.39.39.9.59 1.41.59.51 0 1.02-.2 1.41-.59l7.78-7.78 2.81-2.81c.8-.78.8-2.07 0-2.86zM5.41 20L4 18.59l7.72-7.72 1.47 1.35L5.41 20z\"/>\n",
              "  </svg>\n",
              "      </button>\n",
              "      \n",
              "  <style>\n",
              "    .colab-df-container {\n",
              "      display:flex;\n",
              "      flex-wrap:wrap;\n",
              "      gap: 12px;\n",
              "    }\n",
              "\n",
              "    .colab-df-convert {\n",
              "      background-color: #E8F0FE;\n",
              "      border: none;\n",
              "      border-radius: 50%;\n",
              "      cursor: pointer;\n",
              "      display: none;\n",
              "      fill: #1967D2;\n",
              "      height: 32px;\n",
              "      padding: 0 0 0 0;\n",
              "      width: 32px;\n",
              "    }\n",
              "\n",
              "    .colab-df-convert:hover {\n",
              "      background-color: #E2EBFA;\n",
              "      box-shadow: 0px 1px 2px rgba(60, 64, 67, 0.3), 0px 1px 3px 1px rgba(60, 64, 67, 0.15);\n",
              "      fill: #174EA6;\n",
              "    }\n",
              "\n",
              "    [theme=dark] .colab-df-convert {\n",
              "      background-color: #3B4455;\n",
              "      fill: #D2E3FC;\n",
              "    }\n",
              "\n",
              "    [theme=dark] .colab-df-convert:hover {\n",
              "      background-color: #434B5C;\n",
              "      box-shadow: 0px 1px 3px 1px rgba(0, 0, 0, 0.15);\n",
              "      filter: drop-shadow(0px 1px 2px rgba(0, 0, 0, 0.3));\n",
              "      fill: #FFFFFF;\n",
              "    }\n",
              "  </style>\n",
              "\n",
              "      <script>\n",
              "        const buttonEl =\n",
              "          document.querySelector('#df-0f5a6dad-d527-4872-9aed-3f0ff5f74e25 button.colab-df-convert');\n",
              "        buttonEl.style.display =\n",
              "          google.colab.kernel.accessAllowed ? 'block' : 'none';\n",
              "\n",
              "        async function convertToInteractive(key) {\n",
              "          const element = document.querySelector('#df-0f5a6dad-d527-4872-9aed-3f0ff5f74e25');\n",
              "          const dataTable =\n",
              "            await google.colab.kernel.invokeFunction('convertToInteractive',\n",
              "                                                     [key], {});\n",
              "          if (!dataTable) return;\n",
              "\n",
              "          const docLinkHtml = 'Like what you see? Visit the ' +\n",
              "            '<a target=\"_blank\" href=https://colab.research.google.com/notebooks/data_table.ipynb>data table notebook</a>'\n",
              "            + ' to learn more about interactive tables.';\n",
              "          element.innerHTML = '';\n",
              "          dataTable['output_type'] = 'display_data';\n",
              "          await google.colab.output.renderOutput(dataTable, element);\n",
              "          const docLink = document.createElement('div');\n",
              "          docLink.innerHTML = docLinkHtml;\n",
              "          element.appendChild(docLink);\n",
              "        }\n",
              "      </script>\n",
              "    </div>\n",
              "  </div>\n",
              "  "
            ]
          },
          "metadata": {},
          "execution_count": 33
        }
      ]
    },
    {
      "cell_type": "code",
      "source": [
        "useful_stats.describe()"
      ],
      "metadata": {
        "colab": {
          "base_uri": "https://localhost:8080/",
          "height": 361
        },
        "id": "IAVfiFSPmN9B",
        "outputId": "77d37d77-dfa7-44b3-ae38-15fef3a17e50"
      },
      "execution_count": null,
      "outputs": [
        {
          "output_type": "execute_result",
          "data": {
            "text/plain": [
              "       FotMob rating  Minutes played      Goals    Assists  Total shots  \\\n",
              "count      29.000000       29.000000  29.000000  29.000000    29.000000   \n",
              "mean        7.759655       83.586207   0.827586   0.206897     3.862069   \n",
              "std         1.130779       17.207800   0.889180   0.491304     1.922129   \n",
              "min         5.230000       31.000000   0.000000   0.000000     1.000000   \n",
              "25%         6.880000       82.000000   0.000000   0.000000     2.000000   \n",
              "50%         7.820000       90.000000   1.000000   0.000000     4.000000   \n",
              "75%         8.790000       90.000000   1.000000   0.000000     5.000000   \n",
              "max         9.710000      120.000000   3.000000   2.000000     8.000000   \n",
              "\n",
              "       Chances created  Expected goals (xG)  Expected goals on target (xGOT)  \\\n",
              "count        29.000000            29.000000                        29.000000   \n",
              "mean          1.103448             0.671287                         0.819862   \n",
              "std           0.859602             0.476554                         0.719135   \n",
              "min           0.000000             0.050000                         0.040000   \n",
              "25%           0.000000             0.260000                         0.180000   \n",
              "50%           1.000000             0.650000                         0.670000   \n",
              "75%           2.000000             0.880000                         1.068000   \n",
              "max           3.000000             2.130000                         2.630000   \n",
              "\n",
              "       Expected assists (xA)    Touches  passes_number  \\\n",
              "count               29.00000  29.000000      29.000000   \n",
              "mean                 0.18680  37.758621      16.758621   \n",
              "std                  0.23473   9.980893       5.859395   \n",
              "min                  0.01000  17.000000       8.000000   \n",
              "25%                  0.03000  31.000000      12.000000   \n",
              "50%                  0.11000  38.000000      15.000000   \n",
              "75%                  0.18680  46.000000      20.000000   \n",
              "max                  0.86000  57.000000      29.000000   \n",
              "\n",
              "       accurate_passes_number  pass_accuracy  \n",
              "count               29.000000      29.000000  \n",
              "mean                22.206897       0.753793  \n",
              "std                  6.883621       0.095335  \n",
              "min                 10.000000       0.540000  \n",
              "25%                 17.000000       0.690000  \n",
              "50%                 21.000000       0.770000  \n",
              "75%                 26.000000       0.820000  \n",
              "max                 36.000000       0.920000  "
            ],
            "text/html": [
              "\n",
              "  <div id=\"df-ad0a93e8-7ee1-487d-b33a-1379c0572182\">\n",
              "    <div class=\"colab-df-container\">\n",
              "      <div>\n",
              "<style scoped>\n",
              "    .dataframe tbody tr th:only-of-type {\n",
              "        vertical-align: middle;\n",
              "    }\n",
              "\n",
              "    .dataframe tbody tr th {\n",
              "        vertical-align: top;\n",
              "    }\n",
              "\n",
              "    .dataframe thead th {\n",
              "        text-align: right;\n",
              "    }\n",
              "</style>\n",
              "<table border=\"1\" class=\"dataframe\">\n",
              "  <thead>\n",
              "    <tr style=\"text-align: right;\">\n",
              "      <th></th>\n",
              "      <th>FotMob rating</th>\n",
              "      <th>Minutes played</th>\n",
              "      <th>Goals</th>\n",
              "      <th>Assists</th>\n",
              "      <th>Total shots</th>\n",
              "      <th>Chances created</th>\n",
              "      <th>Expected goals (xG)</th>\n",
              "      <th>Expected goals on target (xGOT)</th>\n",
              "      <th>Expected assists (xA)</th>\n",
              "      <th>Touches</th>\n",
              "      <th>passes_number</th>\n",
              "      <th>accurate_passes_number</th>\n",
              "      <th>pass_accuracy</th>\n",
              "    </tr>\n",
              "  </thead>\n",
              "  <tbody>\n",
              "    <tr>\n",
              "      <th>count</th>\n",
              "      <td>29.000000</td>\n",
              "      <td>29.000000</td>\n",
              "      <td>29.000000</td>\n",
              "      <td>29.000000</td>\n",
              "      <td>29.000000</td>\n",
              "      <td>29.000000</td>\n",
              "      <td>29.000000</td>\n",
              "      <td>29.000000</td>\n",
              "      <td>29.00000</td>\n",
              "      <td>29.000000</td>\n",
              "      <td>29.000000</td>\n",
              "      <td>29.000000</td>\n",
              "      <td>29.000000</td>\n",
              "    </tr>\n",
              "    <tr>\n",
              "      <th>mean</th>\n",
              "      <td>7.759655</td>\n",
              "      <td>83.586207</td>\n",
              "      <td>0.827586</td>\n",
              "      <td>0.206897</td>\n",
              "      <td>3.862069</td>\n",
              "      <td>1.103448</td>\n",
              "      <td>0.671287</td>\n",
              "      <td>0.819862</td>\n",
              "      <td>0.18680</td>\n",
              "      <td>37.758621</td>\n",
              "      <td>16.758621</td>\n",
              "      <td>22.206897</td>\n",
              "      <td>0.753793</td>\n",
              "    </tr>\n",
              "    <tr>\n",
              "      <th>std</th>\n",
              "      <td>1.130779</td>\n",
              "      <td>17.207800</td>\n",
              "      <td>0.889180</td>\n",
              "      <td>0.491304</td>\n",
              "      <td>1.922129</td>\n",
              "      <td>0.859602</td>\n",
              "      <td>0.476554</td>\n",
              "      <td>0.719135</td>\n",
              "      <td>0.23473</td>\n",
              "      <td>9.980893</td>\n",
              "      <td>5.859395</td>\n",
              "      <td>6.883621</td>\n",
              "      <td>0.095335</td>\n",
              "    </tr>\n",
              "    <tr>\n",
              "      <th>min</th>\n",
              "      <td>5.230000</td>\n",
              "      <td>31.000000</td>\n",
              "      <td>0.000000</td>\n",
              "      <td>0.000000</td>\n",
              "      <td>1.000000</td>\n",
              "      <td>0.000000</td>\n",
              "      <td>0.050000</td>\n",
              "      <td>0.040000</td>\n",
              "      <td>0.01000</td>\n",
              "      <td>17.000000</td>\n",
              "      <td>8.000000</td>\n",
              "      <td>10.000000</td>\n",
              "      <td>0.540000</td>\n",
              "    </tr>\n",
              "    <tr>\n",
              "      <th>25%</th>\n",
              "      <td>6.880000</td>\n",
              "      <td>82.000000</td>\n",
              "      <td>0.000000</td>\n",
              "      <td>0.000000</td>\n",
              "      <td>2.000000</td>\n",
              "      <td>0.000000</td>\n",
              "      <td>0.260000</td>\n",
              "      <td>0.180000</td>\n",
              "      <td>0.03000</td>\n",
              "      <td>31.000000</td>\n",
              "      <td>12.000000</td>\n",
              "      <td>17.000000</td>\n",
              "      <td>0.690000</td>\n",
              "    </tr>\n",
              "    <tr>\n",
              "      <th>50%</th>\n",
              "      <td>7.820000</td>\n",
              "      <td>90.000000</td>\n",
              "      <td>1.000000</td>\n",
              "      <td>0.000000</td>\n",
              "      <td>4.000000</td>\n",
              "      <td>1.000000</td>\n",
              "      <td>0.650000</td>\n",
              "      <td>0.670000</td>\n",
              "      <td>0.11000</td>\n",
              "      <td>38.000000</td>\n",
              "      <td>15.000000</td>\n",
              "      <td>21.000000</td>\n",
              "      <td>0.770000</td>\n",
              "    </tr>\n",
              "    <tr>\n",
              "      <th>75%</th>\n",
              "      <td>8.790000</td>\n",
              "      <td>90.000000</td>\n",
              "      <td>1.000000</td>\n",
              "      <td>0.000000</td>\n",
              "      <td>5.000000</td>\n",
              "      <td>2.000000</td>\n",
              "      <td>0.880000</td>\n",
              "      <td>1.068000</td>\n",
              "      <td>0.18680</td>\n",
              "      <td>46.000000</td>\n",
              "      <td>20.000000</td>\n",
              "      <td>26.000000</td>\n",
              "      <td>0.820000</td>\n",
              "    </tr>\n",
              "    <tr>\n",
              "      <th>max</th>\n",
              "      <td>9.710000</td>\n",
              "      <td>120.000000</td>\n",
              "      <td>3.000000</td>\n",
              "      <td>2.000000</td>\n",
              "      <td>8.000000</td>\n",
              "      <td>3.000000</td>\n",
              "      <td>2.130000</td>\n",
              "      <td>2.630000</td>\n",
              "      <td>0.86000</td>\n",
              "      <td>57.000000</td>\n",
              "      <td>29.000000</td>\n",
              "      <td>36.000000</td>\n",
              "      <td>0.920000</td>\n",
              "    </tr>\n",
              "  </tbody>\n",
              "</table>\n",
              "</div>\n",
              "      <button class=\"colab-df-convert\" onclick=\"convertToInteractive('df-ad0a93e8-7ee1-487d-b33a-1379c0572182')\"\n",
              "              title=\"Convert this dataframe to an interactive table.\"\n",
              "              style=\"display:none;\">\n",
              "        \n",
              "  <svg xmlns=\"http://www.w3.org/2000/svg\" height=\"24px\"viewBox=\"0 0 24 24\"\n",
              "       width=\"24px\">\n",
              "    <path d=\"M0 0h24v24H0V0z\" fill=\"none\"/>\n",
              "    <path d=\"M18.56 5.44l.94 2.06.94-2.06 2.06-.94-2.06-.94-.94-2.06-.94 2.06-2.06.94zm-11 1L8.5 8.5l.94-2.06 2.06-.94-2.06-.94L8.5 2.5l-.94 2.06-2.06.94zm10 10l.94 2.06.94-2.06 2.06-.94-2.06-.94-.94-2.06-.94 2.06-2.06.94z\"/><path d=\"M17.41 7.96l-1.37-1.37c-.4-.4-.92-.59-1.43-.59-.52 0-1.04.2-1.43.59L10.3 9.45l-7.72 7.72c-.78.78-.78 2.05 0 2.83L4 21.41c.39.39.9.59 1.41.59.51 0 1.02-.2 1.41-.59l7.78-7.78 2.81-2.81c.8-.78.8-2.07 0-2.86zM5.41 20L4 18.59l7.72-7.72 1.47 1.35L5.41 20z\"/>\n",
              "  </svg>\n",
              "      </button>\n",
              "      \n",
              "  <style>\n",
              "    .colab-df-container {\n",
              "      display:flex;\n",
              "      flex-wrap:wrap;\n",
              "      gap: 12px;\n",
              "    }\n",
              "\n",
              "    .colab-df-convert {\n",
              "      background-color: #E8F0FE;\n",
              "      border: none;\n",
              "      border-radius: 50%;\n",
              "      cursor: pointer;\n",
              "      display: none;\n",
              "      fill: #1967D2;\n",
              "      height: 32px;\n",
              "      padding: 0 0 0 0;\n",
              "      width: 32px;\n",
              "    }\n",
              "\n",
              "    .colab-df-convert:hover {\n",
              "      background-color: #E2EBFA;\n",
              "      box-shadow: 0px 1px 2px rgba(60, 64, 67, 0.3), 0px 1px 3px 1px rgba(60, 64, 67, 0.15);\n",
              "      fill: #174EA6;\n",
              "    }\n",
              "\n",
              "    [theme=dark] .colab-df-convert {\n",
              "      background-color: #3B4455;\n",
              "      fill: #D2E3FC;\n",
              "    }\n",
              "\n",
              "    [theme=dark] .colab-df-convert:hover {\n",
              "      background-color: #434B5C;\n",
              "      box-shadow: 0px 1px 3px 1px rgba(0, 0, 0, 0.15);\n",
              "      filter: drop-shadow(0px 1px 2px rgba(0, 0, 0, 0.3));\n",
              "      fill: #FFFFFF;\n",
              "    }\n",
              "  </style>\n",
              "\n",
              "      <script>\n",
              "        const buttonEl =\n",
              "          document.querySelector('#df-ad0a93e8-7ee1-487d-b33a-1379c0572182 button.colab-df-convert');\n",
              "        buttonEl.style.display =\n",
              "          google.colab.kernel.accessAllowed ? 'block' : 'none';\n",
              "\n",
              "        async function convertToInteractive(key) {\n",
              "          const element = document.querySelector('#df-ad0a93e8-7ee1-487d-b33a-1379c0572182');\n",
              "          const dataTable =\n",
              "            await google.colab.kernel.invokeFunction('convertToInteractive',\n",
              "                                                     [key], {});\n",
              "          if (!dataTable) return;\n",
              "\n",
              "          const docLinkHtml = 'Like what you see? Visit the ' +\n",
              "            '<a target=\"_blank\" href=https://colab.research.google.com/notebooks/data_table.ipynb>data table notebook</a>'\n",
              "            + ' to learn more about interactive tables.';\n",
              "          element.innerHTML = '';\n",
              "          dataTable['output_type'] = 'display_data';\n",
              "          await google.colab.output.renderOutput(dataTable, element);\n",
              "          const docLink = document.createElement('div');\n",
              "          docLink.innerHTML = docLinkHtml;\n",
              "          element.appendChild(docLink);\n",
              "        }\n",
              "      </script>\n",
              "    </div>\n",
              "  </div>\n",
              "  "
            ]
          },
          "metadata": {},
          "execution_count": 34
        }
      ]
    },
    {
      "cell_type": "code",
      "source": [
        "info_and_stats = pd.concat([useful_stats.reset_index(), lewa_team_info.reset_index()], axis=1)"
      ],
      "metadata": {
        "id": "7f6Ggxajpmrb"
      },
      "execution_count": null,
      "outputs": []
    },
    {
      "cell_type": "code",
      "source": [
        "info_and_stats[\"goals and assists\"] = info_and_stats['Assists'] + info_and_stats['Goals']\n",
        "info_and_stats[\"barca_score\"] = info_and_stats[\"barca_score\"].astype(float)"
      ],
      "metadata": {
        "id": "kjTmCxTouXNI"
      },
      "execution_count": null,
      "outputs": []
    },
    {
      "cell_type": "markdown",
      "source": [
        "# EDA"
      ],
      "metadata": {
        "id": "Knhhp52KNAgY"
      }
    },
    {
      "cell_type": "markdown",
      "source": [
        "# total stats\n",
        "\n",
        "- Lewandowski scored 24 goals and made 6 assists in the season.\n",
        "- His expected goals (xG) were 19 and expected assists (xA) were 5."
      ],
      "metadata": {
        "id": "8-Go8KhCqEuL"
      }
    },
    {
      "cell_type": "code",
      "source": [
        "total_stats = useful_stats.drop([\"FotMob rating\", \"pass_accuracy\"], axis=1).sum()\n",
        "total_stats"
      ],
      "metadata": {
        "colab": {
          "base_uri": "https://localhost:8080/"
        },
        "id": "np-MxbYhqJBZ",
        "outputId": "f18896b4-af0f-4380-9a26-c3ea926d5d98"
      },
      "execution_count": null,
      "outputs": [
        {
          "output_type": "execute_result",
          "data": {
            "text/plain": [
              "Minutes played                     2424.000000\n",
              "Goals                                24.000000\n",
              "Assists                               6.000000\n",
              "Total shots                         112.000000\n",
              "Chances created                      32.000000\n",
              "Expected goals (xG)                  19.467333\n",
              "Expected goals on target (xGOT)      23.776000\n",
              "Expected assists (xA)                 5.417200\n",
              "Touches                            1095.000000\n",
              "passes_number                       486.000000\n",
              "accurate_passes_number              644.000000\n",
              "dtype: float64"
            ]
          },
          "metadata": {},
          "execution_count": 37
        }
      ]
    },
    {
      "cell_type": "markdown",
      "source": [
        "# Correlation >0.5\n",
        "  **FotMob rating**  :  Goals, barca_score, Expected goals on target (xGOT), result <br>\n",
        "  **Minutes played** :  accurate_passes_number <br>\n",
        "  **Goals**  :  FotMob rating, barca_score, Expected goals on target (xGOT) <br>\n",
        "  **Total shots**  :  Expected goals (xG) <br>\n",
        "  **Expected goals (xG)**  :  Expected goals on target (xGOT), Total shots <br>\n",
        "  **Expected goals on target (xGOT)**  :  Expected goals (xG), Goals, FotMob rating <br>\n",
        "  **passes_number**  :  accurate_passes_number <br>\n",
        "  **accurate_passes_number**  :  passes_number, Minutes played <br>\n",
        "  **barca_score**  :  Goals, FotMob rating, result <br>\n",
        "  **opponent_score**  :  result <br>\n",
        "  **result**  :  opponent_score, barca_score, FotMob rating"
      ],
      "metadata": {
        "id": "vfdNsvCrZ2wj"
      }
    },
    {
      "cell_type": "code",
      "source": [
        "#result to numerical values\n",
        "result_to_num = {\"Win\":2, \"Draw\":1, \"Lose\":0}\n",
        "df_tocorr = info_and_stats.reset_index().copy().drop([\"index\", \"level_0\", \"opponent_team\"],axis=1)\n",
        "df_tocorr[\"result\"] = df_tocorr[\"result\"].map(result_to_num)"
      ],
      "metadata": {
        "id": "hC___b5mX2T_"
      },
      "execution_count": null,
      "outputs": []
    },
    {
      "cell_type": "code",
      "source": [
        "correlation_m = df_tocorr.astype(float).corr().abs()"
      ],
      "metadata": {
        "id": "sjQhzAdSz7zY"
      },
      "execution_count": null,
      "outputs": []
    },
    {
      "cell_type": "code",
      "source": [
        "df_tocorr.head()"
      ],
      "metadata": {
        "colab": {
          "base_uri": "https://localhost:8080/",
          "height": 302
        },
        "id": "tG0WPR3J0h6t",
        "outputId": "6c970545-b843-40cf-ac1a-258c3b581a3c"
      },
      "execution_count": null,
      "outputs": [
        {
          "output_type": "execute_result",
          "data": {
            "text/plain": [
              "   FotMob rating  Minutes played  Goals  Assists  Total shots  \\\n",
              "0           6.78            90.0    0.0      0.0          5.0   \n",
              "1           8.87            90.0    2.0      0.0          4.0   \n",
              "2           9.24            90.0    2.0      0.0          5.0   \n",
              "3           8.05            74.0    1.0      0.0          4.0   \n",
              "4           9.71            90.0    3.0      0.0          6.0   \n",
              "\n",
              "   Chances created  Expected goals (xG)  Expected goals on target (xGOT)  \\\n",
              "0              2.0                 0.86                             0.89   \n",
              "1              2.0                 0.89                             1.84   \n",
              "2              3.0                 0.88                             2.03   \n",
              "3              1.0                 1.27                             2.17   \n",
              "4              2.0                 1.10                             1.90   \n",
              "\n",
              "   Expected assists (xA)  Touches  passes_number  accurate_passes_number  \\\n",
              "0                   0.05     44.0             11                      16   \n",
              "1                   0.14     46.0             27                      30   \n",
              "2                   0.18     48.0             27                      31   \n",
              "3                   0.01     31.0             14                      17   \n",
              "4                   0.86     51.0             24                      35   \n",
              "\n",
              "   pass_accuracy  isHomeTeam  barca_score opponent_score  result  \\\n",
              "0           0.69        True          0.0              0       1   \n",
              "1           0.90       False          4.0              1       2   \n",
              "2           0.87        True          4.0              0       2   \n",
              "3           0.82       False          3.0              0       2   \n",
              "4           0.69        True          5.0              1       2   \n",
              "\n",
              "   goals and assists  \n",
              "0                0.0  \n",
              "1                2.0  \n",
              "2                2.0  \n",
              "3                1.0  \n",
              "4                3.0  "
            ],
            "text/html": [
              "\n",
              "  <div id=\"df-329097d5-1329-437b-a9d0-96e0428ea99a\">\n",
              "    <div class=\"colab-df-container\">\n",
              "      <div>\n",
              "<style scoped>\n",
              "    .dataframe tbody tr th:only-of-type {\n",
              "        vertical-align: middle;\n",
              "    }\n",
              "\n",
              "    .dataframe tbody tr th {\n",
              "        vertical-align: top;\n",
              "    }\n",
              "\n",
              "    .dataframe thead th {\n",
              "        text-align: right;\n",
              "    }\n",
              "</style>\n",
              "<table border=\"1\" class=\"dataframe\">\n",
              "  <thead>\n",
              "    <tr style=\"text-align: right;\">\n",
              "      <th></th>\n",
              "      <th>FotMob rating</th>\n",
              "      <th>Minutes played</th>\n",
              "      <th>Goals</th>\n",
              "      <th>Assists</th>\n",
              "      <th>Total shots</th>\n",
              "      <th>Chances created</th>\n",
              "      <th>Expected goals (xG)</th>\n",
              "      <th>Expected goals on target (xGOT)</th>\n",
              "      <th>Expected assists (xA)</th>\n",
              "      <th>Touches</th>\n",
              "      <th>passes_number</th>\n",
              "      <th>accurate_passes_number</th>\n",
              "      <th>pass_accuracy</th>\n",
              "      <th>isHomeTeam</th>\n",
              "      <th>barca_score</th>\n",
              "      <th>opponent_score</th>\n",
              "      <th>result</th>\n",
              "      <th>goals and assists</th>\n",
              "    </tr>\n",
              "  </thead>\n",
              "  <tbody>\n",
              "    <tr>\n",
              "      <th>0</th>\n",
              "      <td>6.78</td>\n",
              "      <td>90.0</td>\n",
              "      <td>0.0</td>\n",
              "      <td>0.0</td>\n",
              "      <td>5.0</td>\n",
              "      <td>2.0</td>\n",
              "      <td>0.86</td>\n",
              "      <td>0.89</td>\n",
              "      <td>0.05</td>\n",
              "      <td>44.0</td>\n",
              "      <td>11</td>\n",
              "      <td>16</td>\n",
              "      <td>0.69</td>\n",
              "      <td>True</td>\n",
              "      <td>0.0</td>\n",
              "      <td>0</td>\n",
              "      <td>1</td>\n",
              "      <td>0.0</td>\n",
              "    </tr>\n",
              "    <tr>\n",
              "      <th>1</th>\n",
              "      <td>8.87</td>\n",
              "      <td>90.0</td>\n",
              "      <td>2.0</td>\n",
              "      <td>0.0</td>\n",
              "      <td>4.0</td>\n",
              "      <td>2.0</td>\n",
              "      <td>0.89</td>\n",
              "      <td>1.84</td>\n",
              "      <td>0.14</td>\n",
              "      <td>46.0</td>\n",
              "      <td>27</td>\n",
              "      <td>30</td>\n",
              "      <td>0.90</td>\n",
              "      <td>False</td>\n",
              "      <td>4.0</td>\n",
              "      <td>1</td>\n",
              "      <td>2</td>\n",
              "      <td>2.0</td>\n",
              "    </tr>\n",
              "    <tr>\n",
              "      <th>2</th>\n",
              "      <td>9.24</td>\n",
              "      <td>90.0</td>\n",
              "      <td>2.0</td>\n",
              "      <td>0.0</td>\n",
              "      <td>5.0</td>\n",
              "      <td>3.0</td>\n",
              "      <td>0.88</td>\n",
              "      <td>2.03</td>\n",
              "      <td>0.18</td>\n",
              "      <td>48.0</td>\n",
              "      <td>27</td>\n",
              "      <td>31</td>\n",
              "      <td>0.87</td>\n",
              "      <td>True</td>\n",
              "      <td>4.0</td>\n",
              "      <td>0</td>\n",
              "      <td>2</td>\n",
              "      <td>2.0</td>\n",
              "    </tr>\n",
              "    <tr>\n",
              "      <th>3</th>\n",
              "      <td>8.05</td>\n",
              "      <td>74.0</td>\n",
              "      <td>1.0</td>\n",
              "      <td>0.0</td>\n",
              "      <td>4.0</td>\n",
              "      <td>1.0</td>\n",
              "      <td>1.27</td>\n",
              "      <td>2.17</td>\n",
              "      <td>0.01</td>\n",
              "      <td>31.0</td>\n",
              "      <td>14</td>\n",
              "      <td>17</td>\n",
              "      <td>0.82</td>\n",
              "      <td>False</td>\n",
              "      <td>3.0</td>\n",
              "      <td>0</td>\n",
              "      <td>2</td>\n",
              "      <td>1.0</td>\n",
              "    </tr>\n",
              "    <tr>\n",
              "      <th>4</th>\n",
              "      <td>9.71</td>\n",
              "      <td>90.0</td>\n",
              "      <td>3.0</td>\n",
              "      <td>0.0</td>\n",
              "      <td>6.0</td>\n",
              "      <td>2.0</td>\n",
              "      <td>1.10</td>\n",
              "      <td>1.90</td>\n",
              "      <td>0.86</td>\n",
              "      <td>51.0</td>\n",
              "      <td>24</td>\n",
              "      <td>35</td>\n",
              "      <td>0.69</td>\n",
              "      <td>True</td>\n",
              "      <td>5.0</td>\n",
              "      <td>1</td>\n",
              "      <td>2</td>\n",
              "      <td>3.0</td>\n",
              "    </tr>\n",
              "  </tbody>\n",
              "</table>\n",
              "</div>\n",
              "      <button class=\"colab-df-convert\" onclick=\"convertToInteractive('df-329097d5-1329-437b-a9d0-96e0428ea99a')\"\n",
              "              title=\"Convert this dataframe to an interactive table.\"\n",
              "              style=\"display:none;\">\n",
              "        \n",
              "  <svg xmlns=\"http://www.w3.org/2000/svg\" height=\"24px\"viewBox=\"0 0 24 24\"\n",
              "       width=\"24px\">\n",
              "    <path d=\"M0 0h24v24H0V0z\" fill=\"none\"/>\n",
              "    <path d=\"M18.56 5.44l.94 2.06.94-2.06 2.06-.94-2.06-.94-.94-2.06-.94 2.06-2.06.94zm-11 1L8.5 8.5l.94-2.06 2.06-.94-2.06-.94L8.5 2.5l-.94 2.06-2.06.94zm10 10l.94 2.06.94-2.06 2.06-.94-2.06-.94-.94-2.06-.94 2.06-2.06.94z\"/><path d=\"M17.41 7.96l-1.37-1.37c-.4-.4-.92-.59-1.43-.59-.52 0-1.04.2-1.43.59L10.3 9.45l-7.72 7.72c-.78.78-.78 2.05 0 2.83L4 21.41c.39.39.9.59 1.41.59.51 0 1.02-.2 1.41-.59l7.78-7.78 2.81-2.81c.8-.78.8-2.07 0-2.86zM5.41 20L4 18.59l7.72-7.72 1.47 1.35L5.41 20z\"/>\n",
              "  </svg>\n",
              "      </button>\n",
              "      \n",
              "  <style>\n",
              "    .colab-df-container {\n",
              "      display:flex;\n",
              "      flex-wrap:wrap;\n",
              "      gap: 12px;\n",
              "    }\n",
              "\n",
              "    .colab-df-convert {\n",
              "      background-color: #E8F0FE;\n",
              "      border: none;\n",
              "      border-radius: 50%;\n",
              "      cursor: pointer;\n",
              "      display: none;\n",
              "      fill: #1967D2;\n",
              "      height: 32px;\n",
              "      padding: 0 0 0 0;\n",
              "      width: 32px;\n",
              "    }\n",
              "\n",
              "    .colab-df-convert:hover {\n",
              "      background-color: #E2EBFA;\n",
              "      box-shadow: 0px 1px 2px rgba(60, 64, 67, 0.3), 0px 1px 3px 1px rgba(60, 64, 67, 0.15);\n",
              "      fill: #174EA6;\n",
              "    }\n",
              "\n",
              "    [theme=dark] .colab-df-convert {\n",
              "      background-color: #3B4455;\n",
              "      fill: #D2E3FC;\n",
              "    }\n",
              "\n",
              "    [theme=dark] .colab-df-convert:hover {\n",
              "      background-color: #434B5C;\n",
              "      box-shadow: 0px 1px 3px 1px rgba(0, 0, 0, 0.15);\n",
              "      filter: drop-shadow(0px 1px 2px rgba(0, 0, 0, 0.3));\n",
              "      fill: #FFFFFF;\n",
              "    }\n",
              "  </style>\n",
              "\n",
              "      <script>\n",
              "        const buttonEl =\n",
              "          document.querySelector('#df-329097d5-1329-437b-a9d0-96e0428ea99a button.colab-df-convert');\n",
              "        buttonEl.style.display =\n",
              "          google.colab.kernel.accessAllowed ? 'block' : 'none';\n",
              "\n",
              "        async function convertToInteractive(key) {\n",
              "          const element = document.querySelector('#df-329097d5-1329-437b-a9d0-96e0428ea99a');\n",
              "          const dataTable =\n",
              "            await google.colab.kernel.invokeFunction('convertToInteractive',\n",
              "                                                     [key], {});\n",
              "          if (!dataTable) return;\n",
              "\n",
              "          const docLinkHtml = 'Like what you see? Visit the ' +\n",
              "            '<a target=\"_blank\" href=https://colab.research.google.com/notebooks/data_table.ipynb>data table notebook</a>'\n",
              "            + ' to learn more about interactive tables.';\n",
              "          element.innerHTML = '';\n",
              "          dataTable['output_type'] = 'display_data';\n",
              "          await google.colab.output.renderOutput(dataTable, element);\n",
              "          const docLink = document.createElement('div');\n",
              "          docLink.innerHTML = docLinkHtml;\n",
              "          element.appendChild(docLink);\n",
              "        }\n",
              "      </script>\n",
              "    </div>\n",
              "  </div>\n",
              "  "
            ]
          },
          "metadata": {},
          "execution_count": 40
        }
      ]
    },
    {
      "cell_type": "code",
      "source": [
        "fig, ax = plt.subplots(figsize=(15, 6),)\n",
        "sns.heatmap(correlation_m)"
      ],
      "metadata": {
        "colab": {
          "base_uri": "https://localhost:8080/",
          "height": 548
        },
        "id": "koeZ_Ospa9UF",
        "outputId": "aa3a9cde-525d-49d4-abc2-ef4f82eb049f"
      },
      "execution_count": null,
      "outputs": [
        {
          "output_type": "execute_result",
          "data": {
            "text/plain": [
              "<AxesSubplot:>"
            ]
          },
          "metadata": {},
          "execution_count": 41
        },
        {
          "output_type": "display_data",
          "data": {
            "text/plain": [
              "<Figure size 1080x432 with 2 Axes>"
            ],
            "image/png": "[encoded data removed]"
          },
          "metadata": {
            "needs_background": "light"
          }
        }
      ]
    },
    {
      "cell_type": "code",
      "source": [
        "for column in correlation_m.columns:\n",
        "    most_correlated = correlation_m[correlation_m[column] > 0.5][column].drop([column]).sort_values(ascending=False).index\n",
        "    if len(most_correlated) > 0:\n",
        "        print(column, \" : \", \", \".join(most_correlated))"
      ],
      "metadata": {
        "id": "5X59_yfda-9f",
        "colab": {
          "base_uri": "https://localhost:8080/"
        },
        "outputId": "58040f45-08ee-4b22-d53a-c88c998d35b3"
      },
      "execution_count": null,
      "outputs": [
        {
          "output_type": "stream",
          "name": "stdout",
          "text": [
            "FotMob rating  :  goals and assists, Goals, barca_score, Expected goals on target (xGOT), result\n",
            "Minutes played  :  Touches, accurate_passes_number\n",
            "Goals  :  goals and assists, FotMob rating, barca_score, Expected goals on target (xGOT)\n",
            "Total shots  :  Touches, Expected goals (xG)\n",
            "Expected goals (xG)  :  Expected goals on target (xGOT), Total shots\n",
            "Expected goals on target (xGOT)  :  Expected goals (xG), Goals, FotMob rating, goals and assists\n",
            "Touches  :  accurate_passes_number, passes_number, Minutes played, Total shots\n",
            "passes_number  :  accurate_passes_number, Touches\n",
            "accurate_passes_number  :  passes_number, Touches, Minutes played\n",
            "barca_score  :  goals and assists, Goals, FotMob rating, result\n",
            "opponent_score  :  result\n",
            "result  :  opponent_score, barca_score, FotMob rating\n",
            "goals and assists  :  FotMob rating, Goals, barca_score, Expected goals on target (xGOT)\n"
          ]
        }
      ]
    },
    {
      "cell_type": "markdown",
      "source": [
        "# Rating\n",
        "- Lewandowski had an **average FotMob rating of 7.75** in the season, with a **minimum of 5.23** and a **maximum of 9.71**.\n",
        "-The ratings were generally **high** when the team **won** a game, with a mean of **8.11**, and **low** when the team **lost**, with a mean of **6.45**.\n",
        "-The player's **lowest rating** of the season was **5.23**, which occurred in a game against Osasuna that the team still won. After looking in the dataset, it was found that Lewandowski only played 31 minutes in that game, which may explain his low rating.\n",
        "-Lewandowski performed **similarly** in terms of **rating** in both **home** and **away** games.\n",
        "-There is a **strong correlation** between Lewandowski's **rating** and his **goalscoring** performance. His rating tends to be high when he scores and low when he doesn't. This indicates that goalscoring is a key factor in determining a player's overall performance and rating.\n",
        "- Out of the 29 games in the season, 16 of them had ratings in the medium range (7.0 <= R < 9.0), while 4 of the games had high ratings (R >= 9.0). On the other hand, 9 of the games had low ratings (R < 7.0). This shows that while Lewandowski generally performed well throughout the season, there were still a few games where his performance was below average."
      ],
      "metadata": {
        "id": "tPyV8O-tCZkW"
      }
    },
    {
      "cell_type": "code",
      "source": [
        "info_and_stats[\"Scored\"] = info_and_stats[\"Goals\"].map(lambda x: 1 if x >0 else 0)"
      ],
      "metadata": {
        "id": "_aw9QgFHrvky"
      },
      "execution_count": null,
      "outputs": []
    },
    {
      "cell_type": "code",
      "source": [
        "info_and_stats[\"FotMob rating\"].mean()"
      ],
      "metadata": {
        "colab": {
          "base_uri": "https://localhost:8080/"
        },
        "id": "TAn5UN2KawJs",
        "outputId": "7ebd894d-9d46-4c5e-cf7c-f1ea05953fe1"
      },
      "execution_count": null,
      "outputs": [
        {
          "output_type": "execute_result",
          "data": {
            "text/plain": [
              "7.759655172413792"
            ]
          },
          "metadata": {},
          "execution_count": 44
        }
      ]
    },
    {
      "cell_type": "code",
      "source": [
        "info_and_stats.groupby(\"result\")[\"FotMob rating\"].describe()"
      ],
      "metadata": {
        "colab": {
          "base_uri": "https://localhost:8080/",
          "height": 174
        },
        "id": "-BjQXSNbs9WP",
        "outputId": "846e30a2-33d4-4806-ed27-96b31479a560"
      },
      "execution_count": null,
      "outputs": [
        {
          "output_type": "execute_result",
          "data": {
            "text/plain": [
              "        count    mean       std   min     25%   50%     75%   max\n",
              "result                                                           \n",
              "Draw      5.0  7.4000  1.055817  6.45  6.7800  7.06  7.5700  9.14\n",
              "Lose      4.0  6.4550  0.494537  5.84  6.1625  6.55  6.8425  6.88\n",
              "Win      20.0  8.1105  1.043594  5.23  7.6600  8.24  8.8900  9.71"
            ],
            "text/html": [
              "\n",
              "  <div id=\"df-5705aaae-414a-4376-bec0-08f887157310\">\n",
              "    <div class=\"colab-df-container\">\n",
              "      <div>\n",
              "<style scoped>\n",
              "    .dataframe tbody tr th:only-of-type {\n",
              "        vertical-align: middle;\n",
              "    }\n",
              "\n",
              "    .dataframe tbody tr th {\n",
              "        vertical-align: top;\n",
              "    }\n",
              "\n",
              "    .dataframe thead th {\n",
              "        text-align: right;\n",
              "    }\n",
              "</style>\n",
              "<table border=\"1\" class=\"dataframe\">\n",
              "  <thead>\n",
              "    <tr style=\"text-align: right;\">\n",
              "      <th></th>\n",
              "      <th>count</th>\n",
              "      <th>mean</th>\n",
              "      <th>std</th>\n",
              "      <th>min</th>\n",
              "      <th>25%</th>\n",
              "      <th>50%</th>\n",
              "      <th>75%</th>\n",
              "      <th>max</th>\n",
              "    </tr>\n",
              "    <tr>\n",
              "      <th>result</th>\n",
              "      <th></th>\n",
              "      <th></th>\n",
              "      <th></th>\n",
              "      <th></th>\n",
              "      <th></th>\n",
              "      <th></th>\n",
              "      <th></th>\n",
              "      <th></th>\n",
              "    </tr>\n",
              "  </thead>\n",
              "  <tbody>\n",
              "    <tr>\n",
              "      <th>Draw</th>\n",
              "      <td>5.0</td>\n",
              "      <td>7.4000</td>\n",
              "      <td>1.055817</td>\n",
              "      <td>6.45</td>\n",
              "      <td>6.7800</td>\n",
              "      <td>7.06</td>\n",
              "      <td>7.5700</td>\n",
              "      <td>9.14</td>\n",
              "    </tr>\n",
              "    <tr>\n",
              "      <th>Lose</th>\n",
              "      <td>4.0</td>\n",
              "      <td>6.4550</td>\n",
              "      <td>0.494537</td>\n",
              "      <td>5.84</td>\n",
              "      <td>6.1625</td>\n",
              "      <td>6.55</td>\n",
              "      <td>6.8425</td>\n",
              "      <td>6.88</td>\n",
              "    </tr>\n",
              "    <tr>\n",
              "      <th>Win</th>\n",
              "      <td>20.0</td>\n",
              "      <td>8.1105</td>\n",
              "      <td>1.043594</td>\n",
              "      <td>5.23</td>\n",
              "      <td>7.6600</td>\n",
              "      <td>8.24</td>\n",
              "      <td>8.8900</td>\n",
              "      <td>9.71</td>\n",
              "    </tr>\n",
              "  </tbody>\n",
              "</table>\n",
              "</div>\n",
              "      <button class=\"colab-df-convert\" onclick=\"convertToInteractive('df-5705aaae-414a-4376-bec0-08f887157310')\"\n",
              "              title=\"Convert this dataframe to an interactive table.\"\n",
              "              style=\"display:none;\">\n",
              "        \n",
              "  <svg xmlns=\"http://www.w3.org/2000/svg\" height=\"24px\"viewBox=\"0 0 24 24\"\n",
              "       width=\"24px\">\n",
              "    <path d=\"M0 0h24v24H0V0z\" fill=\"none\"/>\n",
              "    <path d=\"M18.56 5.44l.94 2.06.94-2.06 2.06-.94-2.06-.94-.94-2.06-.94 2.06-2.06.94zm-11 1L8.5 8.5l.94-2.06 2.06-.94-2.06-.94L8.5 2.5l-.94 2.06-2.06.94zm10 10l.94 2.06.94-2.06 2.06-.94-2.06-.94-.94-2.06-.94 2.06-2.06.94z\"/><path d=\"M17.41 7.96l-1.37-1.37c-.4-.4-.92-.59-1.43-.59-.52 0-1.04.2-1.43.59L10.3 9.45l-7.72 7.72c-.78.78-.78 2.05 0 2.83L4 21.41c.39.39.9.59 1.41.59.51 0 1.02-.2 1.41-.59l7.78-7.78 2.81-2.81c.8-.78.8-2.07 0-2.86zM5.41 20L4 18.59l7.72-7.72 1.47 1.35L5.41 20z\"/>\n",
              "  </svg>\n",
              "      </button>\n",
              "      \n",
              "  <style>\n",
              "    .colab-df-container {\n",
              "      display:flex;\n",
              "      flex-wrap:wrap;\n",
              "      gap: 12px;\n",
              "    }\n",
              "\n",
              "    .colab-df-convert {\n",
              "      background-color: #E8F0FE;\n",
              "      border: none;\n",
              "      border-radius: 50%;\n",
              "      cursor: pointer;\n",
              "      display: none;\n",
              "      fill: #1967D2;\n",
              "      height: 32px;\n",
              "      padding: 0 0 0 0;\n",
              "      width: 32px;\n",
              "    }\n",
              "\n",
              "    .colab-df-convert:hover {\n",
              "      background-color: #E2EBFA;\n",
              "      box-shadow: 0px 1px 2px rgba(60, 64, 67, 0.3), 0px 1px 3px 1px rgba(60, 64, 67, 0.15);\n",
              "      fill: #174EA6;\n",
              "    }\n",
              "\n",
              "    [theme=dark] .colab-df-convert {\n",
              "      background-color: #3B4455;\n",
              "      fill: #D2E3FC;\n",
              "    }\n",
              "\n",
              "    [theme=dark] .colab-df-convert:hover {\n",
              "      background-color: #434B5C;\n",
              "      box-shadow: 0px 1px 3px 1px rgba(0, 0, 0, 0.15);\n",
              "      filter: drop-shadow(0px 1px 2px rgba(0, 0, 0, 0.3));\n",
              "      fill: #FFFFFF;\n",
              "    }\n",
              "  </style>\n",
              "\n",
              "      <script>\n",
              "        const buttonEl =\n",
              "          document.querySelector('#df-5705aaae-414a-4376-bec0-08f887157310 button.colab-df-convert');\n",
              "        buttonEl.style.display =\n",
              "          google.colab.kernel.accessAllowed ? 'block' : 'none';\n",
              "\n",
              "        async function convertToInteractive(key) {\n",
              "          const element = document.querySelector('#df-5705aaae-414a-4376-bec0-08f887157310');\n",
              "          const dataTable =\n",
              "            await google.colab.kernel.invokeFunction('convertToInteractive',\n",
              "                                                     [key], {});\n",
              "          if (!dataTable) return;\n",
              "\n",
              "          const docLinkHtml = 'Like what you see? Visit the ' +\n",
              "            '<a target=\"_blank\" href=https://colab.research.google.com/notebooks/data_table.ipynb>data table notebook</a>'\n",
              "            + ' to learn more about interactive tables.';\n",
              "          element.innerHTML = '';\n",
              "          dataTable['output_type'] = 'display_data';\n",
              "          await google.colab.output.renderOutput(dataTable, element);\n",
              "          const docLink = document.createElement('div');\n",
              "          docLink.innerHTML = docLinkHtml;\n",
              "          element.appendChild(docLink);\n",
              "        }\n",
              "      </script>\n",
              "    </div>\n",
              "  </div>\n",
              "  "
            ]
          },
          "metadata": {},
          "execution_count": 45
        }
      ]
    },
    {
      "cell_type": "code",
      "source": [
        "info_and_stats.groupby(\"isHomeTeam\")[\"FotMob rating\"].describe()"
      ],
      "metadata": {
        "colab": {
          "base_uri": "https://localhost:8080/",
          "height": 143
        },
        "id": "wGjnKg7qtnU0",
        "outputId": "23cea924-c57e-4c6d-e2ba-1fbff6c9cf7c"
      },
      "execution_count": null,
      "outputs": [
        {
          "output_type": "execute_result",
          "data": {
            "text/plain": [
              "            count      mean       std   min     25%    50%     75%   max\n",
              "isHomeTeam                                                              \n",
              "False        14.0  7.715714  1.162456  5.23  7.0525  8.015  8.5225  9.08\n",
              "True         15.0  7.800667  1.139652  6.27  6.8450  7.690  8.8700  9.71"
            ],
            "text/html": [
              "\n",
              "  <div id=\"df-09669d76-29ba-4a47-a7a8-d1185314e0d7\">\n",
              "    <div class=\"colab-df-container\">\n",
              "      <div>\n",
              "<style scoped>\n",
              "    .dataframe tbody tr th:only-of-type {\n",
              "        vertical-align: middle;\n",
              "    }\n",
              "\n",
              "    .dataframe tbody tr th {\n",
              "        vertical-align: top;\n",
              "    }\n",
              "\n",
              "    .dataframe thead th {\n",
              "        text-align: right;\n",
              "    }\n",
              "</style>\n",
              "<table border=\"1\" class=\"dataframe\">\n",
              "  <thead>\n",
              "    <tr style=\"text-align: right;\">\n",
              "      <th></th>\n",
              "      <th>count</th>\n",
              "      <th>mean</th>\n",
              "      <th>std</th>\n",
              "      <th>min</th>\n",
              "      <th>25%</th>\n",
              "      <th>50%</th>\n",
              "      <th>75%</th>\n",
              "      <th>max</th>\n",
              "    </tr>\n",
              "    <tr>\n",
              "      <th>isHomeTeam</th>\n",
              "      <th></th>\n",
              "      <th></th>\n",
              "      <th></th>\n",
              "      <th></th>\n",
              "      <th></th>\n",
              "      <th></th>\n",
              "      <th></th>\n",
              "      <th></th>\n",
              "    </tr>\n",
              "  </thead>\n",
              "  <tbody>\n",
              "    <tr>\n",
              "      <th>False</th>\n",
              "      <td>14.0</td>\n",
              "      <td>7.715714</td>\n",
              "      <td>1.162456</td>\n",
              "      <td>5.23</td>\n",
              "      <td>7.0525</td>\n",
              "      <td>8.015</td>\n",
              "      <td>8.5225</td>\n",
              "      <td>9.08</td>\n",
              "    </tr>\n",
              "    <tr>\n",
              "      <th>True</th>\n",
              "      <td>15.0</td>\n",
              "      <td>7.800667</td>\n",
              "      <td>1.139652</td>\n",
              "      <td>6.27</td>\n",
              "      <td>6.8450</td>\n",
              "      <td>7.690</td>\n",
              "      <td>8.8700</td>\n",
              "      <td>9.71</td>\n",
              "    </tr>\n",
              "  </tbody>\n",
              "</table>\n",
              "</div>\n",
              "      <button class=\"colab-df-convert\" onclick=\"convertToInteractive('df-09669d76-29ba-4a47-a7a8-d1185314e0d7')\"\n",
              "              title=\"Convert this dataframe to an interactive table.\"\n",
              "              style=\"display:none;\">\n",
              "        \n",
              "  <svg xmlns=\"http://www.w3.org/2000/svg\" height=\"24px\"viewBox=\"0 0 24 24\"\n",
              "       width=\"24px\">\n",
              "    <path d=\"M0 0h24v24H0V0z\" fill=\"none\"/>\n",
              "    <path d=\"M18.56 5.44l.94 2.06.94-2.06 2.06-.94-2.06-.94-.94-2.06-.94 2.06-2.06.94zm-11 1L8.5 8.5l.94-2.06 2.06-.94-2.06-.94L8.5 2.5l-.94 2.06-2.06.94zm10 10l.94 2.06.94-2.06 2.06-.94-2.06-.94-.94-2.06-.94 2.06-2.06.94z\"/><path d=\"M17.41 7.96l-1.37-1.37c-.4-.4-.92-.59-1.43-.59-.52 0-1.04.2-1.43.59L10.3 9.45l-7.72 7.72c-.78.78-.78 2.05 0 2.83L4 21.41c.39.39.9.59 1.41.59.51 0 1.02-.2 1.41-.59l7.78-7.78 2.81-2.81c.8-.78.8-2.07 0-2.86zM5.41 20L4 18.59l7.72-7.72 1.47 1.35L5.41 20z\"/>\n",
              "  </svg>\n",
              "      </button>\n",
              "      \n",
              "  <style>\n",
              "    .colab-df-container {\n",
              "      display:flex;\n",
              "      flex-wrap:wrap;\n",
              "      gap: 12px;\n",
              "    }\n",
              "\n",
              "    .colab-df-convert {\n",
              "      background-color: #E8F0FE;\n",
              "      border: none;\n",
              "      border-radius: 50%;\n",
              "      cursor: pointer;\n",
              "      display: none;\n",
              "      fill: #1967D2;\n",
              "      height: 32px;\n",
              "      padding: 0 0 0 0;\n",
              "      width: 32px;\n",
              "    }\n",
              "\n",
              "    .colab-df-convert:hover {\n",
              "      background-color: #E2EBFA;\n",
              "      box-shadow: 0px 1px 2px rgba(60, 64, 67, 0.3), 0px 1px 3px 1px rgba(60, 64, 67, 0.15);\n",
              "      fill: #174EA6;\n",
              "    }\n",
              "\n",
              "    [theme=dark] .colab-df-convert {\n",
              "      background-color: #3B4455;\n",
              "      fill: #D2E3FC;\n",
              "    }\n",
              "\n",
              "    [theme=dark] .colab-df-convert:hover {\n",
              "      background-color: #434B5C;\n",
              "      box-shadow: 0px 1px 3px 1px rgba(0, 0, 0, 0.15);\n",
              "      filter: drop-shadow(0px 1px 2px rgba(0, 0, 0, 0.3));\n",
              "      fill: #FFFFFF;\n",
              "    }\n",
              "  </style>\n",
              "\n",
              "      <script>\n",
              "        const buttonEl =\n",
              "          document.querySelector('#df-09669d76-29ba-4a47-a7a8-d1185314e0d7 button.colab-df-convert');\n",
              "        buttonEl.style.display =\n",
              "          google.colab.kernel.accessAllowed ? 'block' : 'none';\n",
              "\n",
              "        async function convertToInteractive(key) {\n",
              "          const element = document.querySelector('#df-09669d76-29ba-4a47-a7a8-d1185314e0d7');\n",
              "          const dataTable =\n",
              "            await google.colab.kernel.invokeFunction('convertToInteractive',\n",
              "                                                     [key], {});\n",
              "          if (!dataTable) return;\n",
              "\n",
              "          const docLinkHtml = 'Like what you see? Visit the ' +\n",
              "            '<a target=\"_blank\" href=https://colab.research.google.com/notebooks/data_table.ipynb>data table notebook</a>'\n",
              "            + ' to learn more about interactive tables.';\n",
              "          element.innerHTML = '';\n",
              "          dataTable['output_type'] = 'display_data';\n",
              "          await google.colab.output.renderOutput(dataTable, element);\n",
              "          const docLink = document.createElement('div');\n",
              "          docLink.innerHTML = docLinkHtml;\n",
              "          element.appendChild(docLink);\n",
              "        }\n",
              "      </script>\n",
              "    </div>\n",
              "  </div>\n",
              "  "
            ]
          },
          "metadata": {},
          "execution_count": 46
        }
      ]
    },
    {
      "cell_type": "code",
      "source": [
        "fig, ax = plt.subplots(figsize=(15, 6),)\n",
        "lab_x = lewa_team_info['opponent_team'].reset_index().index\n",
        "sns.scatterplot(x=lab_x, y=info_and_stats[\"FotMob rating\"], hue=info_and_stats[\"result\"]);\n",
        "ticks = plt.xticks(lab_x, lewa_team_info['opponent_team'], rotation='vertical')"
      ],
      "metadata": {
        "id": "RgqBzncbyniY",
        "colab": {
          "base_uri": "https://localhost:8080/",
          "height": 459
        },
        "outputId": "6a0591d1-e7d9-4a2e-981b-f4a637df5585"
      },
      "execution_count": null,
      "outputs": [
        {
          "output_type": "display_data",
          "data": {
            "text/plain": [
              "<Figure size 1080x432 with 1 Axes>"
            ],
            "image/png": "[encoded data removed]"
          },
          "metadata": {
            "needs_background": "light"
          }
        }
      ]
    },
    {
      "cell_type": "code",
      "source": [
        "fig, ax = plt.subplots(figsize=(15, 6),)\n",
        "lab_x = lewa_team_info['opponent_team'].reset_index().index\n",
        "sns.scatterplot(x=lab_x, y=info_and_stats[\"FotMob rating\"], hue=info_and_stats[\"Scored\"]);\n",
        "ticks = plt.xticks(lab_x, lewa_team_info['opponent_team'], rotation='vertical')"
      ],
      "metadata": {
        "colab": {
          "base_uri": "https://localhost:8080/",
          "height": 459
        },
        "id": "HjKf8b1prsdU",
        "outputId": "b3397ce4-2124-4746-c204-e01b44df4e29"
      },
      "execution_count": null,
      "outputs": [
        {
          "output_type": "display_data",
          "data": {
            "text/plain": [
              "<Figure size 1080x432 with 1 Axes>"
            ],
            "image/png": "[encoded data removed]"
          },
          "metadata": {
            "needs_background": "light"
          }
        }
      ]
    },
    {
      "cell_type": "code",
      "source": [
        "# distribution of fotmob rating\n",
        "sns.distplot(info_and_stats[\"FotMob rating\"], bins=20)"
      ],
      "metadata": {
        "colab": {
          "base_uri": "https://localhost:8080/",
          "height": 351
        },
        "id": "kpuNBordsIOc",
        "outputId": "8605ff58-538f-4768-e50f-f7fc73b2aec3"
      },
      "execution_count": null,
      "outputs": [
        {
          "output_type": "stream",
          "name": "stderr",
          "text": [
            "/usr/local/lib/python3.9/dist-packages/seaborn/distributions.py:2619: FutureWarning: `distplot` is a deprecated function and will be removed in a future version. Please adapt your code to use either `displot` (a figure-level function with similar flexibility) or `histplot` (an axes-level function for histograms).\n",
            "  warnings.warn(msg, FutureWarning)\n"
          ]
        },
        {
          "output_type": "execute_result",
          "data": {
            "text/plain": [
              "<AxesSubplot:xlabel='FotMob rating', ylabel='Density'>"
            ]
          },
          "metadata": {},
          "execution_count": 49
        },
        {
          "output_type": "display_data",
          "data": {
            "text/plain": [
              "<Figure size 432x288 with 1 Axes>"
            ],
            "image/png": "[encoded data removed]"
          },
          "metadata": {
            "needs_background": "light"
          }
        }
      ]
    },
    {
      "cell_type": "code",
      "source": [
        "info_and_stats.query('opponent_team == \"Osasuna\"')"
      ],
      "metadata": {
        "colab": {
          "base_uri": "https://localhost:8080/",
          "height": 196
        },
        "id": "48xkGNe6ui-b",
        "outputId": "5d3db3ba-7f4a-4f32-bbe3-735c3cce7c30"
      },
      "execution_count": null,
      "outputs": [
        {
          "output_type": "execute_result",
          "data": {
            "text/plain": [
              "    index  FotMob rating  Minutes played  Goals  Assists  Total shots  \\\n",
              "18     19           5.23            31.0    0.0      0.0          1.0   \n",
              "\n",
              "    Chances created  Expected goals (xG)  Expected goals on target (xGOT)  \\\n",
              "18              0.0                 0.08                             0.18   \n",
              "\n",
              "    Expected assists (xA)  Touches  passes_number  accurate_passes_number  \\\n",
              "18                   0.02     17.0              8                      10   \n",
              "\n",
              "    pass_accuracy  index  isHomeTeam opponent_team  barca_score  \\\n",
              "18            0.8   1178       False       Osasuna          2.0   \n",
              "\n",
              "   opponent_score result  goals and assists  Scored  \n",
              "18              1    Win                0.0       0  "
            ],
            "text/html": [
              "\n",
              "  <div id=\"df-ab6ba0a8-9135-405e-bb65-228eacec4372\">\n",
              "    <div class=\"colab-df-container\">\n",
              "      <div>\n",
              "<style scoped>\n",
              "    .dataframe tbody tr th:only-of-type {\n",
              "        vertical-align: middle;\n",
              "    }\n",
              "\n",
              "    .dataframe tbody tr th {\n",
              "        vertical-align: top;\n",
              "    }\n",
              "\n",
              "    .dataframe thead th {\n",
              "        text-align: right;\n",
              "    }\n",
              "</style>\n",
              "<table border=\"1\" class=\"dataframe\">\n",
              "  <thead>\n",
              "    <tr style=\"text-align: right;\">\n",
              "      <th></th>\n",
              "      <th>index</th>\n",
              "      <th>FotMob rating</th>\n",
              "      <th>Minutes played</th>\n",
              "      <th>Goals</th>\n",
              "      <th>Assists</th>\n",
              "      <th>Total shots</th>\n",
              "      <th>Chances created</th>\n",
              "      <th>Expected goals (xG)</th>\n",
              "      <th>Expected goals on target (xGOT)</th>\n",
              "      <th>Expected assists (xA)</th>\n",
              "      <th>Touches</th>\n",
              "      <th>passes_number</th>\n",
              "      <th>accurate_passes_number</th>\n",
              "      <th>pass_accuracy</th>\n",
              "      <th>index</th>\n",
              "      <th>isHomeTeam</th>\n",
              "      <th>opponent_team</th>\n",
              "      <th>barca_score</th>\n",
              "      <th>opponent_score</th>\n",
              "      <th>result</th>\n",
              "      <th>goals and assists</th>\n",
              "      <th>Scored</th>\n",
              "    </tr>\n",
              "  </thead>\n",
              "  <tbody>\n",
              "    <tr>\n",
              "      <th>18</th>\n",
              "      <td>19</td>\n",
              "      <td>5.23</td>\n",
              "      <td>31.0</td>\n",
              "      <td>0.0</td>\n",
              "      <td>0.0</td>\n",
              "      <td>1.0</td>\n",
              "      <td>0.0</td>\n",
              "      <td>0.08</td>\n",
              "      <td>0.18</td>\n",
              "      <td>0.02</td>\n",
              "      <td>17.0</td>\n",
              "      <td>8</td>\n",
              "      <td>10</td>\n",
              "      <td>0.8</td>\n",
              "      <td>1178</td>\n",
              "      <td>False</td>\n",
              "      <td>Osasuna</td>\n",
              "      <td>2.0</td>\n",
              "      <td>1</td>\n",
              "      <td>Win</td>\n",
              "      <td>0.0</td>\n",
              "      <td>0</td>\n",
              "    </tr>\n",
              "  </tbody>\n",
              "</table>\n",
              "</div>\n",
              "      <button class=\"colab-df-convert\" onclick=\"convertToInteractive('df-ab6ba0a8-9135-405e-bb65-228eacec4372')\"\n",
              "              title=\"Convert this dataframe to an interactive table.\"\n",
              "              style=\"display:none;\">\n",
              "        \n",
              "  <svg xmlns=\"http://www.w3.org/2000/svg\" height=\"24px\"viewBox=\"0 0 24 24\"\n",
              "       width=\"24px\">\n",
              "    <path d=\"M0 0h24v24H0V0z\" fill=\"none\"/>\n",
              "    <path d=\"M18.56 5.44l.94 2.06.94-2.06 2.06-.94-2.06-.94-.94-2.06-.94 2.06-2.06.94zm-11 1L8.5 8.5l.94-2.06 2.06-.94-2.06-.94L8.5 2.5l-.94 2.06-2.06.94zm10 10l.94 2.06.94-2.06 2.06-.94-2.06-.94-.94-2.06-.94 2.06-2.06.94z\"/><path d=\"M17.41 7.96l-1.37-1.37c-.4-.4-.92-.59-1.43-.59-.52 0-1.04.2-1.43.59L10.3 9.45l-7.72 7.72c-.78.78-.78 2.05 0 2.83L4 21.41c.39.39.9.59 1.41.59.51 0 1.02-.2 1.41-.59l7.78-7.78 2.81-2.81c.8-.78.8-2.07 0-2.86zM5.41 20L4 18.59l7.72-7.72 1.47 1.35L5.41 20z\"/>\n",
              "  </svg>\n",
              "      </button>\n",
              "      \n",
              "  <style>\n",
              "    .colab-df-container {\n",
              "      display:flex;\n",
              "      flex-wrap:wrap;\n",
              "      gap: 12px;\n",
              "    }\n",
              "\n",
              "    .colab-df-convert {\n",
              "      background-color: #E8F0FE;\n",
              "      border: none;\n",
              "      border-radius: 50%;\n",
              "      cursor: pointer;\n",
              "      display: none;\n",
              "      fill: #1967D2;\n",
              "      height: 32px;\n",
              "      padding: 0 0 0 0;\n",
              "      width: 32px;\n",
              "    }\n",
              "\n",
              "    .colab-df-convert:hover {\n",
              "      background-color: #E2EBFA;\n",
              "      box-shadow: 0px 1px 2px rgba(60, 64, 67, 0.3), 0px 1px 3px 1px rgba(60, 64, 67, 0.15);\n",
              "      fill: #174EA6;\n",
              "    }\n",
              "\n",
              "    [theme=dark] .colab-df-convert {\n",
              "      background-color: #3B4455;\n",
              "      fill: #D2E3FC;\n",
              "    }\n",
              "\n",
              "    [theme=dark] .colab-df-convert:hover {\n",
              "      background-color: #434B5C;\n",
              "      box-shadow: 0px 1px 3px 1px rgba(0, 0, 0, 0.15);\n",
              "      filter: drop-shadow(0px 1px 2px rgba(0, 0, 0, 0.3));\n",
              "      fill: #FFFFFF;\n",
              "    }\n",
              "  </style>\n",
              "\n",
              "      <script>\n",
              "        const buttonEl =\n",
              "          document.querySelector('#df-ab6ba0a8-9135-405e-bb65-228eacec4372 button.colab-df-convert');\n",
              "        buttonEl.style.display =\n",
              "          google.colab.kernel.accessAllowed ? 'block' : 'none';\n",
              "\n",
              "        async function convertToInteractive(key) {\n",
              "          const element = document.querySelector('#df-ab6ba0a8-9135-405e-bb65-228eacec4372');\n",
              "          const dataTable =\n",
              "            await google.colab.kernel.invokeFunction('convertToInteractive',\n",
              "                                                     [key], {});\n",
              "          if (!dataTable) return;\n",
              "\n",
              "          const docLinkHtml = 'Like what you see? Visit the ' +\n",
              "            '<a target=\"_blank\" href=https://colab.research.google.com/notebooks/data_table.ipynb>data table notebook</a>'\n",
              "            + ' to learn more about interactive tables.';\n",
              "          element.innerHTML = '';\n",
              "          dataTable['output_type'] = 'display_data';\n",
              "          await google.colab.output.renderOutput(dataTable, element);\n",
              "          const docLink = document.createElement('div');\n",
              "          docLink.innerHTML = docLinkHtml;\n",
              "          element.appendChild(docLink);\n",
              "        }\n",
              "      </script>\n",
              "    </div>\n",
              "  </div>\n",
              "  "
            ]
          },
          "metadata": {},
          "execution_count": 50
        }
      ]
    },
    {
      "cell_type": "code",
      "source": [
        "info_and_stats[\"FotMob rating\"].map(lambda x:\"High\" if x >= 9.0 else (\"Medium\" if 7.0<=x<9.0 else \"Low\")).value_counts().plot(kind=\"bar\")"
      ],
      "metadata": {
        "id": "3RuorQh0wLdV",
        "colab": {
          "base_uri": "https://localhost:8080/",
          "height": 312
        },
        "outputId": "bbe6329e-4846-4a83-a07c-d43f773a495a"
      },
      "execution_count": null,
      "outputs": [
        {
          "output_type": "execute_result",
          "data": {
            "text/plain": [
              "<AxesSubplot:>"
            ]
          },
          "metadata": {},
          "execution_count": 51
        },
        {
          "output_type": "display_data",
          "data": {
            "text/plain": [
              "<Figure size 432x288 with 1 Axes>"
            ],
            "image/png": "[encoded data removed]"
          },
          "metadata": {
            "needs_background": "light"
          }
        }
      ]
    },
    {
      "cell_type": "markdown",
      "source": [
        "# top 5 rated games"
      ],
      "metadata": {
        "id": "dvcs0chhnR-f"
      }
    },
    {
      "cell_type": "code",
      "source": [
        "info_and_stats.sort_values(by=\"FotMob rating\", ascending=False).iloc[:5]"
      ],
      "metadata": {
        "colab": {
          "base_uri": "https://localhost:8080/",
          "height": 322
        },
        "id": "AY9NpaCxlro3",
        "outputId": "444c4212-66b9-4e8b-a30e-c19dee0b21e2"
      },
      "execution_count": null,
      "outputs": [
        {
          "output_type": "execute_result",
          "data": {
            "text/plain": [
              "    index  FotMob rating  Minutes played  Goals  Assists  Total shots  \\\n",
              "4       5           9.71            90.0    3.0      0.0          6.0   \n",
              "2       3           9.24            90.0    2.0      0.0          5.0   \n",
              "11     12           9.14            90.0    2.0      0.0          8.0   \n",
              "22     23           9.08            90.0    2.0      0.0          2.0   \n",
              "5       6           8.95            33.0    1.0      2.0          1.0   \n",
              "\n",
              "    Chances created  Expected goals (xG)  Expected goals on target (xGOT)  \\\n",
              "4               2.0             1.100000                            1.900   \n",
              "2               3.0             0.880000                            2.030   \n",
              "11              2.0             0.650000                            0.830   \n",
              "22              2.0             0.193333                            0.095   \n",
              "5               2.0             0.920000                            0.970   \n",
              "\n",
              "    Expected assists (xA)  Touches  passes_number  accurate_passes_number  \\\n",
              "4                  0.8600     51.0             24                      35   \n",
              "2                  0.1800     48.0             27                      31   \n",
              "11                 0.1800     52.0             13                      24   \n",
              "22                 0.1868     39.0             20                      23   \n",
              "5                  0.5600     24.0             10                      13   \n",
              "\n",
              "    pass_accuracy  index  isHomeTeam    opponent_team  barca_score  \\\n",
              "4            0.69    512        True   Viktoria Plzen          5.0   \n",
              "2            0.87    422        True  Real Valladolid          4.0   \n",
              "11           0.54    818        True            Inter          3.0   \n",
              "22           0.87   1444       False      AD Ceuta FC          5.0   \n",
              "5            0.77    558       False            Cadiz          4.0   \n",
              "\n",
              "   opponent_score result  goals and assists  Scored  \n",
              "4               1    Win                3.0       1  \n",
              "2               0    Win                2.0       1  \n",
              "11              3   Draw                2.0       1  \n",
              "22              0    Win                2.0       1  \n",
              "5               0    Win                3.0       1  "
            ],
            "text/html": [
              "\n",
              "  <div id=\"df-9477be24-50cd-4544-ad2c-1a035d9411a2\">\n",
              "    <div class=\"colab-df-container\">\n",
              "      <div>\n",
              "<style scoped>\n",
              "    .dataframe tbody tr th:only-of-type {\n",
              "        vertical-align: middle;\n",
              "    }\n",
              "\n",
              "    .dataframe tbody tr th {\n",
              "        vertical-align: top;\n",
              "    }\n",
              "\n",
              "    .dataframe thead th {\n",
              "        text-align: right;\n",
              "    }\n",
              "</style>\n",
              "<table border=\"1\" class=\"dataframe\">\n",
              "  <thead>\n",
              "    <tr style=\"text-align: right;\">\n",
              "      <th></th>\n",
              "      <th>index</th>\n",
              "      <th>FotMob rating</th>\n",
              "      <th>Minutes played</th>\n",
              "      <th>Goals</th>\n",
              "      <th>Assists</th>\n",
              "      <th>Total shots</th>\n",
              "      <th>Chances created</th>\n",
              "      <th>Expected goals (xG)</th>\n",
              "      <th>Expected goals on target (xGOT)</th>\n",
              "      <th>Expected assists (xA)</th>\n",
              "      <th>Touches</th>\n",
              "      <th>passes_number</th>\n",
              "      <th>accurate_passes_number</th>\n",
              "      <th>pass_accuracy</th>\n",
              "      <th>index</th>\n",
              "      <th>isHomeTeam</th>\n",
              "      <th>opponent_team</th>\n",
              "      <th>barca_score</th>\n",
              "      <th>opponent_score</th>\n",
              "      <th>result</th>\n",
              "      <th>goals and assists</th>\n",
              "      <th>Scored</th>\n",
              "    </tr>\n",
              "  </thead>\n",
              "  <tbody>\n",
              "    <tr>\n",
              "      <th>4</th>\n",
              "      <td>5</td>\n",
              "      <td>9.71</td>\n",
              "      <td>90.0</td>\n",
              "      <td>3.0</td>\n",
              "      <td>0.0</td>\n",
              "      <td>6.0</td>\n",
              "      <td>2.0</td>\n",
              "      <td>1.100000</td>\n",
              "      <td>1.900</td>\n",
              "      <td>0.8600</td>\n",
              "      <td>51.0</td>\n",
              "      <td>24</td>\n",
              "      <td>35</td>\n",
              "      <td>0.69</td>\n",
              "      <td>512</td>\n",
              "      <td>True</td>\n",
              "      <td>Viktoria Plzen</td>\n",
              "      <td>5.0</td>\n",
              "      <td>1</td>\n",
              "      <td>Win</td>\n",
              "      <td>3.0</td>\n",
              "      <td>1</td>\n",
              "    </tr>\n",
              "    <tr>\n",
              "      <th>2</th>\n",
              "      <td>3</td>\n",
              "      <td>9.24</td>\n",
              "      <td>90.0</td>\n",
              "      <td>2.0</td>\n",
              "      <td>0.0</td>\n",
              "      <td>5.0</td>\n",
              "      <td>3.0</td>\n",
              "      <td>0.880000</td>\n",
              "      <td>2.030</td>\n",
              "      <td>0.1800</td>\n",
              "      <td>48.0</td>\n",
              "      <td>27</td>\n",
              "      <td>31</td>\n",
              "      <td>0.87</td>\n",
              "      <td>422</td>\n",
              "      <td>True</td>\n",
              "      <td>Real Valladolid</td>\n",
              "      <td>4.0</td>\n",
              "      <td>0</td>\n",
              "      <td>Win</td>\n",
              "      <td>2.0</td>\n",
              "      <td>1</td>\n",
              "    </tr>\n",
              "    <tr>\n",
              "      <th>11</th>\n",
              "      <td>12</td>\n",
              "      <td>9.14</td>\n",
              "      <td>90.0</td>\n",
              "      <td>2.0</td>\n",
              "      <td>0.0</td>\n",
              "      <td>8.0</td>\n",
              "      <td>2.0</td>\n",
              "      <td>0.650000</td>\n",
              "      <td>0.830</td>\n",
              "      <td>0.1800</td>\n",
              "      <td>52.0</td>\n",
              "      <td>13</td>\n",
              "      <td>24</td>\n",
              "      <td>0.54</td>\n",
              "      <td>818</td>\n",
              "      <td>True</td>\n",
              "      <td>Inter</td>\n",
              "      <td>3.0</td>\n",
              "      <td>3</td>\n",
              "      <td>Draw</td>\n",
              "      <td>2.0</td>\n",
              "      <td>1</td>\n",
              "    </tr>\n",
              "    <tr>\n",
              "      <th>22</th>\n",
              "      <td>23</td>\n",
              "      <td>9.08</td>\n",
              "      <td>90.0</td>\n",
              "      <td>2.0</td>\n",
              "      <td>0.0</td>\n",
              "      <td>2.0</td>\n",
              "      <td>2.0</td>\n",
              "      <td>0.193333</td>\n",
              "      <td>0.095</td>\n",
              "      <td>0.1868</td>\n",
              "      <td>39.0</td>\n",
              "      <td>20</td>\n",
              "      <td>23</td>\n",
              "      <td>0.87</td>\n",
              "      <td>1444</td>\n",
              "      <td>False</td>\n",
              "      <td>AD Ceuta FC</td>\n",
              "      <td>5.0</td>\n",
              "      <td>0</td>\n",
              "      <td>Win</td>\n",
              "      <td>2.0</td>\n",
              "      <td>1</td>\n",
              "    </tr>\n",
              "    <tr>\n",
              "      <th>5</th>\n",
              "      <td>6</td>\n",
              "      <td>8.95</td>\n",
              "      <td>33.0</td>\n",
              "      <td>1.0</td>\n",
              "      <td>2.0</td>\n",
              "      <td>1.0</td>\n",
              "      <td>2.0</td>\n",
              "      <td>0.920000</td>\n",
              "      <td>0.970</td>\n",
              "      <td>0.5600</td>\n",
              "      <td>24.0</td>\n",
              "      <td>10</td>\n",
              "      <td>13</td>\n",
              "      <td>0.77</td>\n",
              "      <td>558</td>\n",
              "      <td>False</td>\n",
              "      <td>Cadiz</td>\n",
              "      <td>4.0</td>\n",
              "      <td>0</td>\n",
              "      <td>Win</td>\n",
              "      <td>3.0</td>\n",
              "      <td>1</td>\n",
              "    </tr>\n",
              "  </tbody>\n",
              "</table>\n",
              "</div>\n",
              "      <button class=\"colab-df-convert\" onclick=\"convertToInteractive('df-9477be24-50cd-4544-ad2c-1a035d9411a2')\"\n",
              "              title=\"Convert this dataframe to an interactive table.\"\n",
              "              style=\"display:none;\">\n",
              "        \n",
              "  <svg xmlns=\"http://www.w3.org/2000/svg\" height=\"24px\"viewBox=\"0 0 24 24\"\n",
              "       width=\"24px\">\n",
              "    <path d=\"M0 0h24v24H0V0z\" fill=\"none\"/>\n",
              "    <path d=\"M18.56 5.44l.94 2.06.94-2.06 2.06-.94-2.06-.94-.94-2.06-.94 2.06-2.06.94zm-11 1L8.5 8.5l.94-2.06 2.06-.94-2.06-.94L8.5 2.5l-.94 2.06-2.06.94zm10 10l.94 2.06.94-2.06 2.06-.94-2.06-.94-.94-2.06-.94 2.06-2.06.94z\"/><path d=\"M17.41 7.96l-1.37-1.37c-.4-.4-.92-.59-1.43-.59-.52 0-1.04.2-1.43.59L10.3 9.45l-7.72 7.72c-.78.78-.78 2.05 0 2.83L4 21.41c.39.39.9.59 1.41.59.51 0 1.02-.2 1.41-.59l7.78-7.78 2.81-2.81c.8-.78.8-2.07 0-2.86zM5.41 20L4 18.59l7.72-7.72 1.47 1.35L5.41 20z\"/>\n",
              "  </svg>\n",
              "      </button>\n",
              "      \n",
              "  <style>\n",
              "    .colab-df-container {\n",
              "      display:flex;\n",
              "      flex-wrap:wrap;\n",
              "      gap: 12px;\n",
              "    }\n",
              "\n",
              "    .colab-df-convert {\n",
              "      background-color: #E8F0FE;\n",
              "      border: none;\n",
              "      border-radius: 50%;\n",
              "      cursor: pointer;\n",
              "      display: none;\n",
              "      fill: #1967D2;\n",
              "      height: 32px;\n",
              "      padding: 0 0 0 0;\n",
              "      width: 32px;\n",
              "    }\n",
              "\n",
              "    .colab-df-convert:hover {\n",
              "      background-color: #E2EBFA;\n",
              "      box-shadow: 0px 1px 2px rgba(60, 64, 67, 0.3), 0px 1px 3px 1px rgba(60, 64, 67, 0.15);\n",
              "      fill: #174EA6;\n",
              "    }\n",
              "\n",
              "    [theme=dark] .colab-df-convert {\n",
              "      background-color: #3B4455;\n",
              "      fill: #D2E3FC;\n",
              "    }\n",
              "\n",
              "    [theme=dark] .colab-df-convert:hover {\n",
              "      background-color: #434B5C;\n",
              "      box-shadow: 0px 1px 3px 1px rgba(0, 0, 0, 0.15);\n",
              "      filter: drop-shadow(0px 1px 2px rgba(0, 0, 0, 0.3));\n",
              "      fill: #FFFFFF;\n",
              "    }\n",
              "  </style>\n",
              "\n",
              "      <script>\n",
              "        const buttonEl =\n",
              "          document.querySelector('#df-9477be24-50cd-4544-ad2c-1a035d9411a2 button.colab-df-convert');\n",
              "        buttonEl.style.display =\n",
              "          google.colab.kernel.accessAllowed ? 'block' : 'none';\n",
              "\n",
              "        async function convertToInteractive(key) {\n",
              "          const element = document.querySelector('#df-9477be24-50cd-4544-ad2c-1a035d9411a2');\n",
              "          const dataTable =\n",
              "            await google.colab.kernel.invokeFunction('convertToInteractive',\n",
              "                                                     [key], {});\n",
              "          if (!dataTable) return;\n",
              "\n",
              "          const docLinkHtml = 'Like what you see? Visit the ' +\n",
              "            '<a target=\"_blank\" href=https://colab.research.google.com/notebooks/data_table.ipynb>data table notebook</a>'\n",
              "            + ' to learn more about interactive tables.';\n",
              "          element.innerHTML = '';\n",
              "          dataTable['output_type'] = 'display_data';\n",
              "          await google.colab.output.renderOutput(dataTable, element);\n",
              "          const docLink = document.createElement('div');\n",
              "          docLink.innerHTML = docLinkHtml;\n",
              "          element.appendChild(docLink);\n",
              "        }\n",
              "      </script>\n",
              "    </div>\n",
              "  </div>\n",
              "  "
            ]
          },
          "metadata": {},
          "execution_count": 52
        }
      ]
    },
    {
      "cell_type": "markdown",
      "source": [
        "# Goals\n",
        "- Lewandowski had an impressive average scoring rate of 0.82 goals per game.\n",
        "-He failed to score in 13 matches, scored 1 goal in 9 matches, 2 goals in 6 matches, and scored a hat-trick in one game against Pelzen.\n",
        "-Lewandowski's percentage of goals scored out of the total Barcelona goals when he played was 0.38%.\n",
        "-Lewandowski contributed to 14 out of 29 wins when he scored, and Barcelona lost all games in which he did not score.\n",
        "-Lewandowski scored 11 goals in away games and 13 in home games.\n",
        "-There was no significant correlation between expected goals and scored goals.\n",
        "-There was a stronger correlation between expected goals on target and scored goals.\n",
        "-In some matches, the xGOT was almost equal to the number of goals Lewandowski scored.\n",
        "- On average, Lewandowski needed 5 shots to score 1 goal, with a goals per shots ratio of 0.21.\n",
        "- This indicates that Lewandowski was a prolific goalscorer, exceeding his expected goals for the season."
      ],
      "metadata": {
        "id": "QwPDnhCDYpur"
      }
    },
    {
      "cell_type": "code",
      "source": [
        "info_and_stats[\"Goals\"].describe()"
      ],
      "metadata": {
        "colab": {
          "base_uri": "https://localhost:8080/"
        },
        "id": "BaMowKIY3cmz",
        "outputId": "b3cc8f82-8d29-42c9-ddeb-d8df3da84a46"
      },
      "execution_count": null,
      "outputs": [
        {
          "output_type": "execute_result",
          "data": {
            "text/plain": [
              "count    29.000000\n",
              "mean      0.827586\n",
              "std       0.889180\n",
              "min       0.000000\n",
              "25%       0.000000\n",
              "50%       1.000000\n",
              "75%       1.000000\n",
              "max       3.000000\n",
              "Name: Goals, dtype: float64"
            ]
          },
          "metadata": {},
          "execution_count": 53
        }
      ]
    },
    {
      "cell_type": "code",
      "source": [
        "info_and_stats[\"Goals\"].value_counts().plot(kind=\"bar\")"
      ],
      "metadata": {
        "colab": {
          "base_uri": "https://localhost:8080/",
          "height": 288
        },
        "id": "jAI9CMs64Tjg",
        "outputId": "b037bb7e-9f31-4d88-cace-1270fe240977"
      },
      "execution_count": null,
      "outputs": [
        {
          "output_type": "execute_result",
          "data": {
            "text/plain": [
              "<AxesSubplot:>"
            ]
          },
          "metadata": {},
          "execution_count": 54
        },
        {
          "output_type": "display_data",
          "data": {
            "text/plain": [
              "<Figure size 432x288 with 1 Axes>"
            ],
            "image/png": "[encoded data removed]"
          },
          "metadata": {
            "needs_background": "light"
          }
        }
      ]
    },
    {
      "cell_type": "code",
      "source": [
        "# percentage of goals scored / total barcelona goals when he played\n",
        "info_and_stats[\"Goals\"].sum() / info_and_stats[\"barca_score\"].astype(int).sum()"
      ],
      "metadata": {
        "colab": {
          "base_uri": "https://localhost:8080/"
        },
        "id": "Y85G5fRP49Ut",
        "outputId": "b30c3299-298e-4db2-d8d8-d03a217db1d6"
      },
      "execution_count": null,
      "outputs": [
        {
          "output_type": "execute_result",
          "data": {
            "text/plain": [
              "0.38095238095238093"
            ]
          },
          "metadata": {},
          "execution_count": 55
        }
      ]
    },
    {
      "cell_type": "code",
      "source": [
        "# game won when he scores\n",
        "info_and_stats.query('result == \"Win\" & (Goals > 0)').shape[0]"
      ],
      "metadata": {
        "colab": {
          "base_uri": "https://localhost:8080/"
        },
        "id": "4POvlvMw8y05",
        "outputId": "d193e7a4-43e2-4dfd-cdc0-3aece348b6ca"
      },
      "execution_count": null,
      "outputs": [
        {
          "output_type": "execute_result",
          "data": {
            "text/plain": [
              "14"
            ]
          },
          "metadata": {},
          "execution_count": 56
        }
      ]
    },
    {
      "cell_type": "code",
      "source": [
        "info_and_stats.groupby(\"result\").Goals.describe()"
      ],
      "metadata": {
        "colab": {
          "base_uri": "https://localhost:8080/",
          "height": 174
        },
        "id": "kRYrmSsd_CoR",
        "outputId": "88427d7d-03ce-404e-b691-1e17705782b2"
      },
      "execution_count": null,
      "outputs": [
        {
          "output_type": "execute_result",
          "data": {
            "text/plain": [
              "        count  mean       std  min  25%  50%  75%  max\n",
              "result                                                \n",
              "Draw      5.0  0.60  0.894427  0.0  0.0  0.0  1.0  2.0\n",
              "Lose      4.0  0.00  0.000000  0.0  0.0  0.0  0.0  0.0\n",
              "Win      20.0  1.05  0.887041  0.0  0.0  1.0  2.0  3.0"
            ],
            "text/html": [
              "\n",
              "  <div id=\"df-827e957a-7acb-4543-9e24-a7e049550107\">\n",
              "    <div class=\"colab-df-container\">\n",
              "      <div>\n",
              "<style scoped>\n",
              "    .dataframe tbody tr th:only-of-type {\n",
              "        vertical-align: middle;\n",
              "    }\n",
              "\n",
              "    .dataframe tbody tr th {\n",
              "        vertical-align: top;\n",
              "    }\n",
              "\n",
              "    .dataframe thead th {\n",
              "        text-align: right;\n",
              "    }\n",
              "</style>\n",
              "<table border=\"1\" class=\"dataframe\">\n",
              "  <thead>\n",
              "    <tr style=\"text-align: right;\">\n",
              "      <th></th>\n",
              "      <th>count</th>\n",
              "      <th>mean</th>\n",
              "      <th>std</th>\n",
              "      <th>min</th>\n",
              "      <th>25%</th>\n",
              "      <th>50%</th>\n",
              "      <th>75%</th>\n",
              "      <th>max</th>\n",
              "    </tr>\n",
              "    <tr>\n",
              "      <th>result</th>\n",
              "      <th></th>\n",
              "      <th></th>\n",
              "      <th></th>\n",
              "      <th></th>\n",
              "      <th></th>\n",
              "      <th></th>\n",
              "      <th></th>\n",
              "      <th></th>\n",
              "    </tr>\n",
              "  </thead>\n",
              "  <tbody>\n",
              "    <tr>\n",
              "      <th>Draw</th>\n",
              "      <td>5.0</td>\n",
              "      <td>0.60</td>\n",
              "      <td>0.894427</td>\n",
              "      <td>0.0</td>\n",
              "      <td>0.0</td>\n",
              "      <td>0.0</td>\n",
              "      <td>1.0</td>\n",
              "      <td>2.0</td>\n",
              "    </tr>\n",
              "    <tr>\n",
              "      <th>Lose</th>\n",
              "      <td>4.0</td>\n",
              "      <td>0.00</td>\n",
              "      <td>0.000000</td>\n",
              "      <td>0.0</td>\n",
              "      <td>0.0</td>\n",
              "      <td>0.0</td>\n",
              "      <td>0.0</td>\n",
              "      <td>0.0</td>\n",
              "    </tr>\n",
              "    <tr>\n",
              "      <th>Win</th>\n",
              "      <td>20.0</td>\n",
              "      <td>1.05</td>\n",
              "      <td>0.887041</td>\n",
              "      <td>0.0</td>\n",
              "      <td>0.0</td>\n",
              "      <td>1.0</td>\n",
              "      <td>2.0</td>\n",
              "      <td>3.0</td>\n",
              "    </tr>\n",
              "  </tbody>\n",
              "</table>\n",
              "</div>\n",
              "      <button class=\"colab-df-convert\" onclick=\"convertToInteractive('df-827e957a-7acb-4543-9e24-a7e049550107')\"\n",
              "              title=\"Convert this dataframe to an interactive table.\"\n",
              "              style=\"display:none;\">\n",
              "        \n",
              "  <svg xmlns=\"http://www.w3.org/2000/svg\" height=\"24px\"viewBox=\"0 0 24 24\"\n",
              "       width=\"24px\">\n",
              "    <path d=\"M0 0h24v24H0V0z\" fill=\"none\"/>\n",
              "    <path d=\"M18.56 5.44l.94 2.06.94-2.06 2.06-.94-2.06-.94-.94-2.06-.94 2.06-2.06.94zm-11 1L8.5 8.5l.94-2.06 2.06-.94-2.06-.94L8.5 2.5l-.94 2.06-2.06.94zm10 10l.94 2.06.94-2.06 2.06-.94-2.06-.94-.94-2.06-.94 2.06-2.06.94z\"/><path d=\"M17.41 7.96l-1.37-1.37c-.4-.4-.92-.59-1.43-.59-.52 0-1.04.2-1.43.59L10.3 9.45l-7.72 7.72c-.78.78-.78 2.05 0 2.83L4 21.41c.39.39.9.59 1.41.59.51 0 1.02-.2 1.41-.59l7.78-7.78 2.81-2.81c.8-.78.8-2.07 0-2.86zM5.41 20L4 18.59l7.72-7.72 1.47 1.35L5.41 20z\"/>\n",
              "  </svg>\n",
              "      </button>\n",
              "      \n",
              "  <style>\n",
              "    .colab-df-container {\n",
              "      display:flex;\n",
              "      flex-wrap:wrap;\n",
              "      gap: 12px;\n",
              "    }\n",
              "\n",
              "    .colab-df-convert {\n",
              "      background-color: #E8F0FE;\n",
              "      border: none;\n",
              "      border-radius: 50%;\n",
              "      cursor: pointer;\n",
              "      display: none;\n",
              "      fill: #1967D2;\n",
              "      height: 32px;\n",
              "      padding: 0 0 0 0;\n",
              "      width: 32px;\n",
              "    }\n",
              "\n",
              "    .colab-df-convert:hover {\n",
              "      background-color: #E2EBFA;\n",
              "      box-shadow: 0px 1px 2px rgba(60, 64, 67, 0.3), 0px 1px 3px 1px rgba(60, 64, 67, 0.15);\n",
              "      fill: #174EA6;\n",
              "    }\n",
              "\n",
              "    [theme=dark] .colab-df-convert {\n",
              "      background-color: #3B4455;\n",
              "      fill: #D2E3FC;\n",
              "    }\n",
              "\n",
              "    [theme=dark] .colab-df-convert:hover {\n",
              "      background-color: #434B5C;\n",
              "      box-shadow: 0px 1px 3px 1px rgba(0, 0, 0, 0.15);\n",
              "      filter: drop-shadow(0px 1px 2px rgba(0, 0, 0, 0.3));\n",
              "      fill: #FFFFFF;\n",
              "    }\n",
              "  </style>\n",
              "\n",
              "      <script>\n",
              "        const buttonEl =\n",
              "          document.querySelector('#df-827e957a-7acb-4543-9e24-a7e049550107 button.colab-df-convert');\n",
              "        buttonEl.style.display =\n",
              "          google.colab.kernel.accessAllowed ? 'block' : 'none';\n",
              "\n",
              "        async function convertToInteractive(key) {\n",
              "          const element = document.querySelector('#df-827e957a-7acb-4543-9e24-a7e049550107');\n",
              "          const dataTable =\n",
              "            await google.colab.kernel.invokeFunction('convertToInteractive',\n",
              "                                                     [key], {});\n",
              "          if (!dataTable) return;\n",
              "\n",
              "          const docLinkHtml = 'Like what you see? Visit the ' +\n",
              "            '<a target=\"_blank\" href=https://colab.research.google.com/notebooks/data_table.ipynb>data table notebook</a>'\n",
              "            + ' to learn more about interactive tables.';\n",
              "          element.innerHTML = '';\n",
              "          dataTable['output_type'] = 'display_data';\n",
              "          await google.colab.output.renderOutput(dataTable, element);\n",
              "          const docLink = document.createElement('div');\n",
              "          docLink.innerHTML = docLinkHtml;\n",
              "          element.appendChild(docLink);\n",
              "        }\n",
              "      </script>\n",
              "    </div>\n",
              "  </div>\n",
              "  "
            ]
          },
          "metadata": {},
          "execution_count": 57
        }
      ]
    },
    {
      "cell_type": "code",
      "source": [
        "info_and_stats.groupby(\"isHomeTeam\").Goals.sum()"
      ],
      "metadata": {
        "colab": {
          "base_uri": "https://localhost:8080/"
        },
        "id": "hlY_6nX2_ocE",
        "outputId": "c31b3daa-f0b9-4144-8378-9afd847c5943"
      },
      "execution_count": null,
      "outputs": [
        {
          "output_type": "execute_result",
          "data": {
            "text/plain": [
              "isHomeTeam\n",
              "False    11.0\n",
              "True     13.0\n",
              "Name: Goals, dtype: float64"
            ]
          },
          "metadata": {},
          "execution_count": 58
        }
      ]
    },
    {
      "cell_type": "code",
      "source": [
        "# goals vs expected goals\n",
        "fig, ax = plt.subplots(figsize=(18, 7),)\n",
        "fig.subplots_adjust(hspace = 0.5)\n",
        "lab_x = info_and_stats['opponent_team'].reset_index().index\n",
        "\n",
        "axx = plt.subplot(2,1,1)\n",
        "axx.bar(lab_x-0.2, info_and_stats['Goals'], width=0.3, label='Goals')\n",
        "axx.bar(lab_x+0.2, info_and_stats['Expected goals (xG)'], width=0.3, label='Expected goals (xG)')\n",
        "axx.legend()\n",
        "axx.legend()\n",
        "plt.xticks(lab_x, lewa_team_info['opponent_team'],rotation='vertical')\n",
        "plt.title(\"Goals vs Expected goals\")\n",
        "\n",
        "axx = plt.subplot(2,1,2)\n",
        "axx.bar(lab_x-0.2, info_and_stats['Goals'], width=0.3, label='Goals')\n",
        "axx.bar(lab_x+0.2, info_and_stats['Expected goals on target (xGOT)'], width=0.3, label='Expected goals on target (xGOT)')\n",
        "axx.legend()\n",
        "plt.xticks(lab_x, lewa_team_info['opponent_team'],rotation='vertical')\n",
        "plt.title(\"Goals vs Expected goals on target\")"
      ],
      "metadata": {
        "colab": {
          "base_uri": "https://localhost:8080/",
          "height": 546
        },
        "id": "NAfPEFr9cksW",
        "outputId": "a2de6ff9-e6f1-4bfa-83ed-9db090073f2b"
      },
      "execution_count": null,
      "outputs": [
        {
          "output_type": "execute_result",
          "data": {
            "text/plain": [
              "Text(0.5, 1.0, 'Goals vs Expected goals on target')"
            ]
          },
          "metadata": {},
          "execution_count": 59
        },
        {
          "output_type": "display_data",
          "data": {
            "text/plain": [
              "<Figure size 1296x504 with 2 Axes>"
            ],
            "image/png": "[encoded data removed]"
          },
          "metadata": {
            "needs_background": "light"
          }
        }
      ]
    },
    {
      "cell_type": "code",
      "source": [
        "(info_and_stats['Expected goals on target (xGOT)'] - info_and_stats['Goals']).abs().mean()"
      ],
      "metadata": {
        "colab": {
          "base_uri": "https://localhost:8080/"
        },
        "id": "Lf52ybdcpOZk",
        "outputId": "72201715-0f7d-487a-b231-6047602d9268"
      },
      "execution_count": null,
      "outputs": [
        {
          "output_type": "execute_result",
          "data": {
            "text/plain": [
              "0.5477931034482759"
            ]
          },
          "metadata": {},
          "execution_count": 60
        }
      ]
    },
    {
      "cell_type": "code",
      "source": [
        "# goals per shots\n",
        "total_stats[\"Goals\"]/total_stats[\"Total shots\"]"
      ],
      "metadata": {
        "colab": {
          "base_uri": "https://localhost:8080/"
        },
        "id": "hGd_5jBtSGHo",
        "outputId": "70103075-a3fb-48a5-dcb2-f7b97f7f134a"
      },
      "execution_count": null,
      "outputs": [
        {
          "output_type": "execute_result",
          "data": {
            "text/plain": [
              "0.21428571428571427"
            ]
          },
          "metadata": {},
          "execution_count": 61
        }
      ]
    },
    {
      "cell_type": "markdown",
      "source": [
        "# Assists\n",
        "- Lewa had 6 assists, with 1 at home and 5 away.\n",
        "-Lewa's average assists per game is 0.2.\n",
        "-The expected assists (xA) metric does not provide an accurate representation of the number of assists made by Lewa."
      ],
      "metadata": {
        "id": "GHgISB0jYXbD"
      }
    },
    {
      "cell_type": "code",
      "source": [
        "info_and_stats[\"Assists\"].describe()\n"
      ],
      "metadata": {
        "colab": {
          "base_uri": "https://localhost:8080/"
        },
        "id": "lSh-mvW3Yc8f",
        "outputId": "1a0dbdc9-652d-42d6-8eba-d5bb328c74fd"
      },
      "execution_count": null,
      "outputs": [
        {
          "output_type": "execute_result",
          "data": {
            "text/plain": [
              "count    29.000000\n",
              "mean      0.206897\n",
              "std       0.491304\n",
              "min       0.000000\n",
              "25%       0.000000\n",
              "50%       0.000000\n",
              "75%       0.000000\n",
              "max       2.000000\n",
              "Name: Assists, dtype: float64"
            ]
          },
          "metadata": {},
          "execution_count": 62
        }
      ]
    },
    {
      "cell_type": "code",
      "source": [
        "info_and_stats[\"Assists\"].sum()"
      ],
      "metadata": {
        "colab": {
          "base_uri": "https://localhost:8080/"
        },
        "id": "VpnU7PhIZCOH",
        "outputId": "56da6957-1bd8-4ec6-b54c-67312c9891e2"
      },
      "execution_count": null,
      "outputs": [
        {
          "output_type": "execute_result",
          "data": {
            "text/plain": [
              "6.0"
            ]
          },
          "metadata": {},
          "execution_count": 63
        }
      ]
    },
    {
      "cell_type": "code",
      "source": [
        "info_and_stats.groupby(\"isHomeTeam\")[\"Assists\"].sum().plot(kind=\"bar\")"
      ],
      "metadata": {
        "colab": {
          "base_uri": "https://localhost:8080/",
          "height": 312
        },
        "id": "yd90ytjgY8w1",
        "outputId": "0aa5fd7f-60c8-4fc2-bbd5-0e6716348f3b"
      },
      "execution_count": null,
      "outputs": [
        {
          "output_type": "execute_result",
          "data": {
            "text/plain": [
              "<AxesSubplot:xlabel='isHomeTeam'>"
            ]
          },
          "metadata": {},
          "execution_count": 64
        },
        {
          "output_type": "display_data",
          "data": {
            "text/plain": [
              "<Figure size 432x288 with 1 Axes>"
            ],
            "image/png": "[encoded data removed]"
          },
          "metadata": {
            "needs_background": "light"
          }
        }
      ]
    },
    {
      "cell_type": "code",
      "source": [
        "# assists vs expected assists\n",
        "fig, ax = plt.subplots(figsize=(15, 7),)\n",
        "fig.subplots_adjust(hspace = 0.5)\n",
        "lab_x = info_and_stats['opponent_team'].reset_index().index\n",
        "ax.bar(lab_x-0.2, info_and_stats['Assists'], width=0.3, label='Assists')\n",
        "ax.bar(lab_x+0.2, info_and_stats['Expected assists (xA)'], width=0.3, label='Expected assists (xA)')\n",
        "ax.legend()\n",
        "plt.xticks(lab_x, lewa_team_info['opponent_team'],rotation='vertical')\n",
        "plt.title(\"Assists vs Expected assists\")"
      ],
      "metadata": {
        "colab": {
          "base_uri": "https://localhost:8080/",
          "height": 546
        },
        "id": "CGnkv6_gllH_",
        "outputId": "6eec6438-c20d-4cac-8a62-170318c68ec7"
      },
      "execution_count": null,
      "outputs": [
        {
          "output_type": "execute_result",
          "data": {
            "text/plain": [
              "Text(0.5, 1.0, 'Assists vs Expected assists')"
            ]
          },
          "metadata": {},
          "execution_count": 65
        },
        {
          "output_type": "display_data",
          "data": {
            "text/plain": [
              "<Figure size 1080x504 with 1 Axes>"
            ],
            "image/png": "[encoded data removed]"
          },
          "metadata": {
            "needs_background": "light"
          }
        }
      ]
    },
    {
      "cell_type": "markdown",
      "source": [
        "# Goals + assists\n",
        "\n",
        "- Lewa has an average of 1 goal or assist per match.\n",
        "-Lewa's scoring or assisting has contributed to 15 out of 20 wins.\n",
        "-Lewa contributed to 47% of Barcelona's goals."
      ],
      "metadata": {
        "id": "YtCddGkPqRwV"
      }
    },
    {
      "cell_type": "code",
      "source": [
        "info_and_stats[\"goals and assists\"].describe()"
      ],
      "metadata": {
        "colab": {
          "base_uri": "https://localhost:8080/"
        },
        "id": "fpx8VL-pqeMA",
        "outputId": "5a5891ee-3aea-457d-c888-d8b24b012ccf"
      },
      "execution_count": null,
      "outputs": [
        {
          "output_type": "execute_result",
          "data": {
            "text/plain": [
              "count    29.000000\n",
              "mean      1.034483\n",
              "std       0.981353\n",
              "min       0.000000\n",
              "25%       0.000000\n",
              "50%       1.000000\n",
              "75%       2.000000\n",
              "max       3.000000\n",
              "Name: goals and assists, dtype: float64"
            ]
          },
          "metadata": {},
          "execution_count": 66
        }
      ]
    },
    {
      "cell_type": "code",
      "source": [
        "# win contribution by scoring or assisting\n",
        "info_and_stats.query('result == \"Win\" & (`goals and assists` > 0)').shape[0]"
      ],
      "metadata": {
        "id": "k3ivYrv61mFf",
        "colab": {
          "base_uri": "https://localhost:8080/"
        },
        "outputId": "715b7ecc-add7-49ea-f6e9-a2b150a07350"
      },
      "execution_count": null,
      "outputs": [
        {
          "output_type": "execute_result",
          "data": {
            "text/plain": [
              "15"
            ]
          },
          "metadata": {},
          "execution_count": 67
        }
      ]
    },
    {
      "cell_type": "code",
      "source": [
        "info_and_stats.query('result == \"Win\"').shape[0]"
      ],
      "metadata": {
        "colab": {
          "base_uri": "https://localhost:8080/"
        },
        "id": "tpunNS8vtW9Z",
        "outputId": "2416f6ec-df31-4819-8776-80cd21570e17"
      },
      "execution_count": null,
      "outputs": [
        {
          "output_type": "execute_result",
          "data": {
            "text/plain": [
              "20"
            ]
          },
          "metadata": {},
          "execution_count": 68
        }
      ]
    },
    {
      "cell_type": "code",
      "source": [
        "# score contribution\n",
        "info_and_stats[\"goals and assists\"].sum()/info_and_stats[\"barca_score\"].sum()"
      ],
      "metadata": {
        "colab": {
          "base_uri": "https://localhost:8080/"
        },
        "id": "t22UtHnjtwyo",
        "outputId": "e38f6d7d-395d-4fff-b813-6de2a93d07e3"
      },
      "execution_count": null,
      "outputs": [
        {
          "output_type": "execute_result",
          "data": {
            "text/plain": [
              "0.47619047619047616"
            ]
          },
          "metadata": {},
          "execution_count": 69
        }
      ]
    },
    {
      "cell_type": "markdown",
      "source": [
        "# shots\n",
        "- Lewa made at least one shot in every match.\n",
        "-There is a correlation between the expected goals (xG) and total shots.\n",
        "-On average, he made 3.86 shots per match.\n",
        "-Most of the total shots are in the range of 1 to 6."
      ],
      "metadata": {
        "id": "APtbIIq9wY9M"
      }
    },
    {
      "cell_type": "code",
      "source": [
        "info_and_stats['Total shots'].describe()"
      ],
      "metadata": {
        "colab": {
          "base_uri": "https://localhost:8080/"
        },
        "id": "iQ0GybLNxpU_",
        "outputId": "0485e3be-2e39-4637-e6c9-eaf2e1a691f3"
      },
      "execution_count": null,
      "outputs": [
        {
          "output_type": "execute_result",
          "data": {
            "text/plain": [
              "count    29.000000\n",
              "mean      3.862069\n",
              "std       1.922129\n",
              "min       1.000000\n",
              "25%       2.000000\n",
              "50%       4.000000\n",
              "75%       5.000000\n",
              "max       8.000000\n",
              "Name: Total shots, dtype: float64"
            ]
          },
          "metadata": {},
          "execution_count": 70
        }
      ]
    },
    {
      "cell_type": "code",
      "source": [
        "fig, ax = plt.subplots(figsize=(18, 7),)\n",
        "fig.subplots_adjust(hspace = 0.5)\n",
        "lab_x = info_and_stats['opponent_team'].reset_index().index\n",
        "\n",
        "axx = plt.subplot(2,1,1)\n",
        "axx.bar(lab_x-0.2, info_and_stats['Total shots']/info_and_stats['Total shots'].sum(), width=0.3, label='Total shots')\n",
        "axx.bar(lab_x+0.2, info_and_stats['Expected goals (xG)']/info_and_stats['Expected goals (xG)'].sum(), width=0.3, label='Expected goals (xG)')\n",
        "axx.legend()\n",
        "axx.legend()\n",
        "plt.xticks(lab_x, lewa_team_info['opponent_team'],rotation='vertical')\n",
        "plt.title(\"Total shots vs Expected goals\")"
      ],
      "metadata": {
        "colab": {
          "base_uri": "https://localhost:8080/",
          "height": 318
        },
        "id": "D25RT-4DviK3",
        "outputId": "667e3743-6d85-4b67-c611-b1a910f8aae6"
      },
      "execution_count": null,
      "outputs": [
        {
          "output_type": "execute_result",
          "data": {
            "text/plain": [
              "Text(0.5, 1.0, 'Total shots vs Expected goals')"
            ]
          },
          "metadata": {},
          "execution_count": 71
        },
        {
          "output_type": "display_data",
          "data": {
            "text/plain": [
              "<Figure size 1296x504 with 1 Axes>"
            ],
            "image/png": "[encoded data removed]"
          },
          "metadata": {
            "needs_background": "light"
          }
        }
      ]
    },
    {
      "cell_type": "code",
      "source": [
        "sns.distplot(info_and_stats['Total shots'])"
      ],
      "metadata": {
        "colab": {
          "base_uri": "https://localhost:8080/",
          "height": 351
        },
        "id": "qCIwvH0FyEdC",
        "outputId": "0003eac7-4562-4543-aae5-f8722691878b"
      },
      "execution_count": null,
      "outputs": [
        {
          "output_type": "stream",
          "name": "stderr",
          "text": [
            "/usr/local/lib/python3.9/dist-packages/seaborn/distributions.py:2619: FutureWarning: `distplot` is a deprecated function and will be removed in a future version. Please adapt your code to use either `displot` (a figure-level function with similar flexibility) or `histplot` (an axes-level function for histograms).\n",
            "  warnings.warn(msg, FutureWarning)\n"
          ]
        },
        {
          "output_type": "execute_result",
          "data": {
            "text/plain": [
              "<AxesSubplot:xlabel='Total shots', ylabel='Density'>"
            ]
          },
          "metadata": {},
          "execution_count": 72
        },
        {
          "output_type": "display_data",
          "data": {
            "text/plain": [
              "<Figure size 432x288 with 1 Axes>"
            ],
            "image/png": "[encoded data removed]"
          },
          "metadata": {
            "needs_background": "light"
          }
        }
      ]
    },
    {
      "cell_type": "markdown",
      "source": [
        "# Passes\n",
        "- Lewa's average pass accuracy is 75%.\n",
        "-Pass accuracy tends to be higher when the team wins compared to when they draw or lose."
      ],
      "metadata": {
        "id": "dSCU2_hxzKJS"
      }
    },
    {
      "cell_type": "code",
      "source": [
        "info_and_stats[\"pass_accuracy\"].describe()"
      ],
      "metadata": {
        "colab": {
          "base_uri": "https://localhost:8080/"
        },
        "id": "XuUzpvMGvri7",
        "outputId": "4ab59e72-1a9f-413c-817b-5fd326f768bd"
      },
      "execution_count": null,
      "outputs": [
        {
          "output_type": "execute_result",
          "data": {
            "text/plain": [
              "count    29.000000\n",
              "mean      0.753793\n",
              "std       0.095335\n",
              "min       0.540000\n",
              "25%       0.690000\n",
              "50%       0.770000\n",
              "75%       0.820000\n",
              "max       0.920000\n",
              "Name: pass_accuracy, dtype: float64"
            ]
          },
          "metadata": {},
          "execution_count": 73
        }
      ]
    },
    {
      "cell_type": "code",
      "source": [
        "sns.distplot(info_and_stats[\"pass_accuracy\"])"
      ],
      "metadata": {
        "colab": {
          "base_uri": "https://localhost:8080/",
          "height": 351
        },
        "id": "Fr4uAXoqz-WH",
        "outputId": "a41586c8-89f9-49df-eb4f-f2ba9f569654"
      },
      "execution_count": null,
      "outputs": [
        {
          "output_type": "stream",
          "name": "stderr",
          "text": [
            "/usr/local/lib/python3.9/dist-packages/seaborn/distributions.py:2619: FutureWarning: `distplot` is a deprecated function and will be removed in a future version. Please adapt your code to use either `displot` (a figure-level function with similar flexibility) or `histplot` (an axes-level function for histograms).\n",
            "  warnings.warn(msg, FutureWarning)\n"
          ]
        },
        {
          "output_type": "execute_result",
          "data": {
            "text/plain": [
              "<AxesSubplot:xlabel='pass_accuracy', ylabel='Density'>"
            ]
          },
          "metadata": {},
          "execution_count": 74
        },
        {
          "output_type": "display_data",
          "data": {
            "text/plain": [
              "<Figure size 432x288 with 1 Axes>"
            ],
            "image/png": "[encoded data removed]"
          },
          "metadata": {
            "needs_background": "light"
          }
        }
      ]
    },
    {
      "cell_type": "code",
      "source": [
        "info_and_stats.groupby(\"isHomeTeam\")[\"pass_accuracy\"].mean().plot(kind='bar')"
      ],
      "metadata": {
        "colab": {
          "base_uri": "https://localhost:8080/",
          "height": 312
        },
        "id": "HTX4f3NW1hhE",
        "outputId": "5397f682-7a9c-4fa4-f85b-a96828d582db"
      },
      "execution_count": null,
      "outputs": [
        {
          "output_type": "execute_result",
          "data": {
            "text/plain": [
              "<AxesSubplot:xlabel='isHomeTeam'>"
            ]
          },
          "metadata": {},
          "execution_count": 75
        },
        {
          "output_type": "display_data",
          "data": {
            "text/plain": [
              "<Figure size 432x288 with 1 Axes>"
            ],
            "image/png": "[encoded data removed]"
          },
          "metadata": {
            "needs_background": "light"
          }
        }
      ]
    },
    {
      "cell_type": "code",
      "source": [
        "info_and_stats.groupby(\"result\")[\"pass_accuracy\"].mean().plot(kind='bar')"
      ],
      "metadata": {
        "colab": {
          "base_uri": "https://localhost:8080/",
          "height": 312
        },
        "id": "q69is0Nt2Y-8",
        "outputId": "990d98fb-3ed9-4626-9c6e-e36b2bf4e7b4"
      },
      "execution_count": null,
      "outputs": [
        {
          "output_type": "execute_result",
          "data": {
            "text/plain": [
              "<AxesSubplot:xlabel='result'>"
            ]
          },
          "metadata": {},
          "execution_count": 76
        },
        {
          "output_type": "display_data",
          "data": {
            "text/plain": [
              "<Figure size 432x288 with 1 Axes>"
            ],
            "image/png": "[encoded data removed]"
          },
          "metadata": {
            "needs_background": "light"
          }
        }
      ]
    },
    {
      "cell_type": "code",
      "source": [
        "info_and_stats.groupby(\"Assists\")[\"pass_accuracy\"].mean().plot(kind='bar')"
      ],
      "metadata": {
        "colab": {
          "base_uri": "https://localhost:8080/",
          "height": 304
        },
        "id": "TBpka8up2fSV",
        "outputId": "92051a48-20c7-4887-9c59-7336ca0aa9ae"
      },
      "execution_count": null,
      "outputs": [
        {
          "output_type": "execute_result",
          "data": {
            "text/plain": [
              "<AxesSubplot:xlabel='Assists'>"
            ]
          },
          "metadata": {},
          "execution_count": 77
        },
        {
          "output_type": "display_data",
          "data": {
            "text/plain": [
              "<Figure size 432x288 with 1 Axes>"
            ],
            "image/png": "[encoded data removed]"
          },
          "metadata": {
            "needs_background": "light"
          }
        }
      ]
    },
    {
      "cell_type": "markdown",
      "source": [
        "# Conclusion\n",
        "After analyzing the performance of Barcelona's attacker Lewandowski, it is clear that he is a key player for the team's success. He has a significant impact on the team's win rate, as he contributed to 47% of the team's goals and helped the team win 15 out of 29 games by either scoring or assisting, Lewandowski's performance is vital for the team, and improving his consistency could lead to even greater success for Barcelona."
      ],
      "metadata": {
        "id": "56EgoneT4JWO"
      }
    }
  ]
}